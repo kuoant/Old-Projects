{
 "cells": [
  {
   "cell_type": "markdown",
   "metadata": {},
   "source": [
    "# Bundesliga"
   ]
  },
  {
   "cell_type": "code",
   "execution_count": 1,
   "metadata": {},
   "outputs": [
    {
     "data": {
      "application/javascript": [
       "IPython.notebook.set_autosave_interval(0)"
      ]
     },
     "metadata": {},
     "output_type": "display_data"
    },
    {
     "name": "stdout",
     "output_type": "stream",
     "text": [
      "Autosave disabled\n"
     ]
    }
   ],
   "source": [
    "import numpy as np\n",
    "import pandas as pd\n",
    "import matplotlib.pyplot as plt\n",
    "%matplotlib inline\n",
    "%autosave 0"
   ]
  },
  {
   "cell_type": "markdown",
   "metadata": {},
   "source": [
    "### Daten einlesen"
   ]
  },
  {
   "cell_type": "code",
   "execution_count": 2,
   "metadata": {},
   "outputs": [
    {
     "data": {
      "text/html": [
       "<div>\n",
       "<style scoped>\n",
       "    .dataframe tbody tr th:only-of-type {\n",
       "        vertical-align: middle;\n",
       "    }\n",
       "\n",
       "    .dataframe tbody tr th {\n",
       "        vertical-align: top;\n",
       "    }\n",
       "\n",
       "    .dataframe thead th {\n",
       "        text-align: right;\n",
       "    }\n",
       "</style>\n",
       "<table border=\"1\" class=\"dataframe\">\n",
       "  <thead>\n",
       "    <tr style=\"text-align: right;\">\n",
       "      <th></th>\n",
       "      <th>Unnamed: 0</th>\n",
       "      <th>Saison</th>\n",
       "      <th>Spieltag</th>\n",
       "      <th>Datum</th>\n",
       "      <th>Anpfiff</th>\n",
       "      <th>Heim</th>\n",
       "      <th>Gast</th>\n",
       "      <th>Tore.Heim</th>\n",
       "      <th>Tore.Gast</th>\n",
       "      <th>Tore.Heim.Halbzeit</th>\n",
       "      <th>Tore.Gast.Halbzeit</th>\n",
       "    </tr>\n",
       "  </thead>\n",
       "  <tbody>\n",
       "    <tr>\n",
       "      <th>0</th>\n",
       "      <td>1</td>\n",
       "      <td>1963/1964</td>\n",
       "      <td>1</td>\n",
       "      <td>1963-08-24</td>\n",
       "      <td>17:00</td>\n",
       "      <td>Hertha BSC Berlin</td>\n",
       "      <td>1. FC Nuernberg</td>\n",
       "      <td>1</td>\n",
       "      <td>1</td>\n",
       "      <td>0.0</td>\n",
       "      <td>1.0</td>\n",
       "    </tr>\n",
       "    <tr>\n",
       "      <th>1</th>\n",
       "      <td>2</td>\n",
       "      <td>1963/1964</td>\n",
       "      <td>1</td>\n",
       "      <td>1963-08-24</td>\n",
       "      <td>17:00</td>\n",
       "      <td>SV Werder Bremen</td>\n",
       "      <td>Borussia Dortmund</td>\n",
       "      <td>3</td>\n",
       "      <td>2</td>\n",
       "      <td>1.0</td>\n",
       "      <td>1.0</td>\n",
       "    </tr>\n",
       "    <tr>\n",
       "      <th>2</th>\n",
       "      <td>3</td>\n",
       "      <td>1963/1964</td>\n",
       "      <td>1</td>\n",
       "      <td>1963-08-24</td>\n",
       "      <td>17:00</td>\n",
       "      <td>Eintracht Frankfurt</td>\n",
       "      <td>1. FC Kaiserslautern</td>\n",
       "      <td>1</td>\n",
       "      <td>1</td>\n",
       "      <td>1.0</td>\n",
       "      <td>1.0</td>\n",
       "    </tr>\n",
       "    <tr>\n",
       "      <th>3</th>\n",
       "      <td>4</td>\n",
       "      <td>1963/1964</td>\n",
       "      <td>1</td>\n",
       "      <td>1963-08-24</td>\n",
       "      <td>17:00</td>\n",
       "      <td>Karlsruher SC</td>\n",
       "      <td>Meidericher SV</td>\n",
       "      <td>1</td>\n",
       "      <td>4</td>\n",
       "      <td>0.0</td>\n",
       "      <td>3.0</td>\n",
       "    </tr>\n",
       "    <tr>\n",
       "      <th>4</th>\n",
       "      <td>5</td>\n",
       "      <td>1963/1964</td>\n",
       "      <td>1</td>\n",
       "      <td>1963-08-24</td>\n",
       "      <td>17:00</td>\n",
       "      <td>TSV 1860 Muenchen</td>\n",
       "      <td>Eintracht Braunschweig</td>\n",
       "      <td>1</td>\n",
       "      <td>1</td>\n",
       "      <td>1.0</td>\n",
       "      <td>0.0</td>\n",
       "    </tr>\n",
       "  </tbody>\n",
       "</table>\n",
       "</div>"
      ],
      "text/plain": [
       "   Unnamed: 0     Saison  Spieltag       Datum Anpfiff                 Heim  \\\n",
       "0           1  1963/1964         1  1963-08-24   17:00    Hertha BSC Berlin   \n",
       "1           2  1963/1964         1  1963-08-24   17:00     SV Werder Bremen   \n",
       "2           3  1963/1964         1  1963-08-24   17:00  Eintracht Frankfurt   \n",
       "3           4  1963/1964         1  1963-08-24   17:00        Karlsruher SC   \n",
       "4           5  1963/1964         1  1963-08-24   17:00    TSV 1860 Muenchen   \n",
       "\n",
       "                     Gast  Tore.Heim  Tore.Gast  Tore.Heim.Halbzeit  \\\n",
       "0         1. FC Nuernberg          1          1                 0.0   \n",
       "1       Borussia Dortmund          3          2                 1.0   \n",
       "2    1. FC Kaiserslautern          1          1                 1.0   \n",
       "3          Meidericher SV          1          4                 0.0   \n",
       "4  Eintracht Braunschweig          1          1                 1.0   \n",
       "\n",
       "   Tore.Gast.Halbzeit  \n",
       "0                 1.0  \n",
       "1                 1.0  \n",
       "2                 1.0  \n",
       "3                 3.0  \n",
       "4                 0.0  "
      ]
     },
     "execution_count": 2,
     "metadata": {},
     "output_type": "execute_result"
    }
   ],
   "source": [
    "df = pd.read_csv('../../weitere_Daten/Bundesliga.csv')\n",
    "df.head()"
   ]
  },
  {
   "cell_type": "code",
   "execution_count": 3,
   "metadata": {},
   "outputs": [],
   "source": [
    "df.drop('Unnamed: 0', axis=1, inplace=True)"
   ]
  },
  {
   "cell_type": "code",
   "execution_count": 5,
   "metadata": {},
   "outputs": [
    {
     "data": {
      "text/html": [
       "<div>\n",
       "<style scoped>\n",
       "    .dataframe tbody tr th:only-of-type {\n",
       "        vertical-align: middle;\n",
       "    }\n",
       "\n",
       "    .dataframe tbody tr th {\n",
       "        vertical-align: top;\n",
       "    }\n",
       "\n",
       "    .dataframe thead th {\n",
       "        text-align: right;\n",
       "    }\n",
       "</style>\n",
       "<table border=\"1\" class=\"dataframe\">\n",
       "  <thead>\n",
       "    <tr style=\"text-align: right;\">\n",
       "      <th></th>\n",
       "      <th>Saison</th>\n",
       "      <th>Spieltag</th>\n",
       "      <th>Datum</th>\n",
       "      <th>Anpfiff</th>\n",
       "      <th>Heim</th>\n",
       "      <th>Gast</th>\n",
       "      <th>Tore_Heim</th>\n",
       "      <th>Tore_Gast</th>\n",
       "      <th>Tore_Heim_Halbzeit</th>\n",
       "      <th>Tore_Gast_Halbzeit</th>\n",
       "    </tr>\n",
       "  </thead>\n",
       "  <tbody>\n",
       "    <tr>\n",
       "      <th>0</th>\n",
       "      <td>1963/1964</td>\n",
       "      <td>1</td>\n",
       "      <td>1963-08-24</td>\n",
       "      <td>17:00</td>\n",
       "      <td>Hertha BSC Berlin</td>\n",
       "      <td>1. FC Nuernberg</td>\n",
       "      <td>1</td>\n",
       "      <td>1</td>\n",
       "      <td>0.0</td>\n",
       "      <td>1.0</td>\n",
       "    </tr>\n",
       "    <tr>\n",
       "      <th>1</th>\n",
       "      <td>1963/1964</td>\n",
       "      <td>1</td>\n",
       "      <td>1963-08-24</td>\n",
       "      <td>17:00</td>\n",
       "      <td>SV Werder Bremen</td>\n",
       "      <td>Borussia Dortmund</td>\n",
       "      <td>3</td>\n",
       "      <td>2</td>\n",
       "      <td>1.0</td>\n",
       "      <td>1.0</td>\n",
       "    </tr>\n",
       "    <tr>\n",
       "      <th>2</th>\n",
       "      <td>1963/1964</td>\n",
       "      <td>1</td>\n",
       "      <td>1963-08-24</td>\n",
       "      <td>17:00</td>\n",
       "      <td>Eintracht Frankfurt</td>\n",
       "      <td>1. FC Kaiserslautern</td>\n",
       "      <td>1</td>\n",
       "      <td>1</td>\n",
       "      <td>1.0</td>\n",
       "      <td>1.0</td>\n",
       "    </tr>\n",
       "    <tr>\n",
       "      <th>3</th>\n",
       "      <td>1963/1964</td>\n",
       "      <td>1</td>\n",
       "      <td>1963-08-24</td>\n",
       "      <td>17:00</td>\n",
       "      <td>Karlsruher SC</td>\n",
       "      <td>Meidericher SV</td>\n",
       "      <td>1</td>\n",
       "      <td>4</td>\n",
       "      <td>0.0</td>\n",
       "      <td>3.0</td>\n",
       "    </tr>\n",
       "    <tr>\n",
       "      <th>4</th>\n",
       "      <td>1963/1964</td>\n",
       "      <td>1</td>\n",
       "      <td>1963-08-24</td>\n",
       "      <td>17:00</td>\n",
       "      <td>TSV 1860 Muenchen</td>\n",
       "      <td>Eintracht Braunschweig</td>\n",
       "      <td>1</td>\n",
       "      <td>1</td>\n",
       "      <td>1.0</td>\n",
       "      <td>0.0</td>\n",
       "    </tr>\n",
       "  </tbody>\n",
       "</table>\n",
       "</div>"
      ],
      "text/plain": [
       "      Saison  Spieltag       Datum Anpfiff                 Heim  \\\n",
       "0  1963/1964         1  1963-08-24   17:00    Hertha BSC Berlin   \n",
       "1  1963/1964         1  1963-08-24   17:00     SV Werder Bremen   \n",
       "2  1963/1964         1  1963-08-24   17:00  Eintracht Frankfurt   \n",
       "3  1963/1964         1  1963-08-24   17:00        Karlsruher SC   \n",
       "4  1963/1964         1  1963-08-24   17:00    TSV 1860 Muenchen   \n",
       "\n",
       "                     Gast  Tore_Heim  Tore_Gast  Tore_Heim_Halbzeit  \\\n",
       "0         1. FC Nuernberg          1          1                 0.0   \n",
       "1       Borussia Dortmund          3          2                 1.0   \n",
       "2    1. FC Kaiserslautern          1          1                 1.0   \n",
       "3          Meidericher SV          1          4                 0.0   \n",
       "4  Eintracht Braunschweig          1          1                 1.0   \n",
       "\n",
       "   Tore_Gast_Halbzeit  \n",
       "0                 1.0  \n",
       "1                 1.0  \n",
       "2                 1.0  \n",
       "3                 3.0  \n",
       "4                 0.0  "
      ]
     },
     "execution_count": 5,
     "metadata": {},
     "output_type": "execute_result"
    }
   ],
   "source": [
    "df.columns = df.columns.str.replace('.', '_')\n",
    "df.head()"
   ]
  },
  {
   "cell_type": "code",
   "execution_count": 6,
   "metadata": {},
   "outputs": [],
   "source": [
    "df['Datum'] = pd.to_datetime(df.Datum)"
   ]
  },
  {
   "cell_type": "code",
   "execution_count": 7,
   "metadata": {},
   "outputs": [
    {
     "data": {
      "text/plain": [
       "(13406, 10)"
      ]
     },
     "execution_count": 7,
     "metadata": {},
     "output_type": "execute_result"
    }
   ],
   "source": [
    "df.shape"
   ]
  },
  {
   "cell_type": "code",
   "execution_count": 10,
   "metadata": {},
   "outputs": [
    {
     "data": {
      "text/plain": [
       "2"
      ]
     },
     "execution_count": 10,
     "metadata": {},
     "output_type": "execute_result"
    }
   ],
   "source": [
    "df.ndim"
   ]
  },
  {
   "cell_type": "code",
   "execution_count": 11,
   "metadata": {},
   "outputs": [
    {
     "data": {
      "text/html": [
       "<div>\n",
       "<style scoped>\n",
       "    .dataframe tbody tr th:only-of-type {\n",
       "        vertical-align: middle;\n",
       "    }\n",
       "\n",
       "    .dataframe tbody tr th {\n",
       "        vertical-align: top;\n",
       "    }\n",
       "\n",
       "    .dataframe thead th {\n",
       "        text-align: right;\n",
       "    }\n",
       "</style>\n",
       "<table border=\"1\" class=\"dataframe\">\n",
       "  <thead>\n",
       "    <tr style=\"text-align: right;\">\n",
       "      <th></th>\n",
       "      <th>Spieltag</th>\n",
       "      <th>Tore_Heim</th>\n",
       "      <th>Tore_Gast</th>\n",
       "      <th>Tore_Heim_Halbzeit</th>\n",
       "      <th>Tore_Gast_Halbzeit</th>\n",
       "    </tr>\n",
       "  </thead>\n",
       "  <tbody>\n",
       "    <tr>\n",
       "      <th>count</th>\n",
       "      <td>13406.000000</td>\n",
       "      <td>13406.000000</td>\n",
       "      <td>13406.000000</td>\n",
       "      <td>13402.000000</td>\n",
       "      <td>13402.000000</td>\n",
       "    </tr>\n",
       "    <tr>\n",
       "      <th>mean</th>\n",
       "      <td>17.485081</td>\n",
       "      <td>1.907877</td>\n",
       "      <td>1.191183</td>\n",
       "      <td>0.833085</td>\n",
       "      <td>0.514774</td>\n",
       "    </tr>\n",
       "    <tr>\n",
       "      <th>std</th>\n",
       "      <td>9.819879</td>\n",
       "      <td>1.472291</td>\n",
       "      <td>1.157593</td>\n",
       "      <td>0.917930</td>\n",
       "      <td>0.714929</td>\n",
       "    </tr>\n",
       "    <tr>\n",
       "      <th>min</th>\n",
       "      <td>1.000000</td>\n",
       "      <td>0.000000</td>\n",
       "      <td>0.000000</td>\n",
       "      <td>0.000000</td>\n",
       "      <td>0.000000</td>\n",
       "    </tr>\n",
       "    <tr>\n",
       "      <th>25%</th>\n",
       "      <td>9.000000</td>\n",
       "      <td>1.000000</td>\n",
       "      <td>0.000000</td>\n",
       "      <td>0.000000</td>\n",
       "      <td>0.000000</td>\n",
       "    </tr>\n",
       "    <tr>\n",
       "      <th>50%</th>\n",
       "      <td>17.000000</td>\n",
       "      <td>2.000000</td>\n",
       "      <td>1.000000</td>\n",
       "      <td>1.000000</td>\n",
       "      <td>0.000000</td>\n",
       "    </tr>\n",
       "    <tr>\n",
       "      <th>75%</th>\n",
       "      <td>26.000000</td>\n",
       "      <td>3.000000</td>\n",
       "      <td>2.000000</td>\n",
       "      <td>1.000000</td>\n",
       "      <td>1.000000</td>\n",
       "    </tr>\n",
       "    <tr>\n",
       "      <th>max</th>\n",
       "      <td>38.000000</td>\n",
       "      <td>12.000000</td>\n",
       "      <td>9.000000</td>\n",
       "      <td>6.000000</td>\n",
       "      <td>6.000000</td>\n",
       "    </tr>\n",
       "  </tbody>\n",
       "</table>\n",
       "</div>"
      ],
      "text/plain": [
       "           Spieltag     Tore_Heim     Tore_Gast  Tore_Heim_Halbzeit  \\\n",
       "count  13406.000000  13406.000000  13406.000000        13402.000000   \n",
       "mean      17.485081      1.907877      1.191183            0.833085   \n",
       "std        9.819879      1.472291      1.157593            0.917930   \n",
       "min        1.000000      0.000000      0.000000            0.000000   \n",
       "25%        9.000000      1.000000      0.000000            0.000000   \n",
       "50%       17.000000      2.000000      1.000000            1.000000   \n",
       "75%       26.000000      3.000000      2.000000            1.000000   \n",
       "max       38.000000     12.000000      9.000000            6.000000   \n",
       "\n",
       "       Tore_Gast_Halbzeit  \n",
       "count        13402.000000  \n",
       "mean             0.514774  \n",
       "std              0.714929  \n",
       "min              0.000000  \n",
       "25%              0.000000  \n",
       "50%              0.000000  \n",
       "75%              1.000000  \n",
       "max              6.000000  "
      ]
     },
     "execution_count": 11,
     "metadata": {},
     "output_type": "execute_result"
    }
   ],
   "source": [
    "df.describe()"
   ]
  },
  {
   "cell_type": "code",
   "execution_count": 15,
   "metadata": {},
   "outputs": [
    {
     "data": {
      "text/html": [
       "<div>\n",
       "<style scoped>\n",
       "    .dataframe tbody tr th:only-of-type {\n",
       "        vertical-align: middle;\n",
       "    }\n",
       "\n",
       "    .dataframe tbody tr th {\n",
       "        vertical-align: top;\n",
       "    }\n",
       "\n",
       "    .dataframe thead th {\n",
       "        text-align: right;\n",
       "    }\n",
       "</style>\n",
       "<table border=\"1\" class=\"dataframe\">\n",
       "  <thead>\n",
       "    <tr style=\"text-align: right;\">\n",
       "      <th></th>\n",
       "      <th>Tore_Heim</th>\n",
       "      <th>Tore_Gast</th>\n",
       "    </tr>\n",
       "  </thead>\n",
       "  <tbody>\n",
       "    <tr>\n",
       "      <th>0</th>\n",
       "      <td>2244</td>\n",
       "      <td>4287.0</td>\n",
       "    </tr>\n",
       "    <tr>\n",
       "      <th>1</th>\n",
       "      <td>3743</td>\n",
       "      <td>4745.0</td>\n",
       "    </tr>\n",
       "    <tr>\n",
       "      <th>2</th>\n",
       "      <td>3385</td>\n",
       "      <td>2704.0</td>\n",
       "    </tr>\n",
       "    <tr>\n",
       "      <th>3</th>\n",
       "      <td>2201</td>\n",
       "      <td>1113.0</td>\n",
       "    </tr>\n",
       "    <tr>\n",
       "      <th>4</th>\n",
       "      <td>1109</td>\n",
       "      <td>397.0</td>\n",
       "    </tr>\n",
       "    <tr>\n",
       "      <th>5</th>\n",
       "      <td>458</td>\n",
       "      <td>98.0</td>\n",
       "    </tr>\n",
       "    <tr>\n",
       "      <th>6</th>\n",
       "      <td>178</td>\n",
       "      <td>43.0</td>\n",
       "    </tr>\n",
       "    <tr>\n",
       "      <th>7</th>\n",
       "      <td>62</td>\n",
       "      <td>14.0</td>\n",
       "    </tr>\n",
       "    <tr>\n",
       "      <th>8</th>\n",
       "      <td>12</td>\n",
       "      <td>2.0</td>\n",
       "    </tr>\n",
       "    <tr>\n",
       "      <th>9</th>\n",
       "      <td>8</td>\n",
       "      <td>3.0</td>\n",
       "    </tr>\n",
       "    <tr>\n",
       "      <th>10</th>\n",
       "      <td>2</td>\n",
       "      <td>NaN</td>\n",
       "    </tr>\n",
       "    <tr>\n",
       "      <th>11</th>\n",
       "      <td>3</td>\n",
       "      <td>NaN</td>\n",
       "    </tr>\n",
       "    <tr>\n",
       "      <th>12</th>\n",
       "      <td>1</td>\n",
       "      <td>NaN</td>\n",
       "    </tr>\n",
       "  </tbody>\n",
       "</table>\n",
       "</div>"
      ],
      "text/plain": [
       "    Tore_Heim  Tore_Gast\n",
       "0        2244     4287.0\n",
       "1        3743     4745.0\n",
       "2        3385     2704.0\n",
       "3        2201     1113.0\n",
       "4        1109      397.0\n",
       "5         458       98.0\n",
       "6         178       43.0\n",
       "7          62       14.0\n",
       "8          12        2.0\n",
       "9           8        3.0\n",
       "10          2        NaN\n",
       "11          3        NaN\n",
       "12          1        NaN"
      ]
     },
     "execution_count": 15,
     "metadata": {},
     "output_type": "execute_result"
    }
   ],
   "source": [
    "# Heim- versus Gast-Toreverteilung\n",
    "tab_heim = df.Tore_Heim.value_counts()\n",
    "tab_gast = df.Tore_Gast.value_counts()\n",
    "pd.concat([tab_heim, tab_gast], axis=1)"
   ]
  },
  {
   "cell_type": "markdown",
   "metadata": {},
   "source": [
    "### Neue Variablen definieren:"
   ]
  },
  {
   "cell_type": "code",
   "execution_count": 17,
   "metadata": {},
   "outputs": [
    {
     "data": {
      "text/html": [
       "<div>\n",
       "<style scoped>\n",
       "    .dataframe tbody tr th:only-of-type {\n",
       "        vertical-align: middle;\n",
       "    }\n",
       "\n",
       "    .dataframe tbody tr th {\n",
       "        vertical-align: top;\n",
       "    }\n",
       "\n",
       "    .dataframe thead th {\n",
       "        text-align: right;\n",
       "    }\n",
       "</style>\n",
       "<table border=\"1\" class=\"dataframe\">\n",
       "  <thead>\n",
       "    <tr style=\"text-align: right;\">\n",
       "      <th></th>\n",
       "      <th>Saison</th>\n",
       "      <th>Spieltag</th>\n",
       "      <th>Datum</th>\n",
       "      <th>Anpfiff</th>\n",
       "      <th>Heim</th>\n",
       "      <th>Gast</th>\n",
       "      <th>Tore_Heim</th>\n",
       "      <th>Tore_Gast</th>\n",
       "      <th>Tore_Heim_Halbzeit</th>\n",
       "      <th>Tore_Gast_Halbzeit</th>\n",
       "      <th>Tore</th>\n",
       "    </tr>\n",
       "  </thead>\n",
       "  <tbody>\n",
       "    <tr>\n",
       "      <th>0</th>\n",
       "      <td>1963/1964</td>\n",
       "      <td>1</td>\n",
       "      <td>1963-08-24</td>\n",
       "      <td>17:00</td>\n",
       "      <td>Hertha BSC Berlin</td>\n",
       "      <td>1. FC Nuernberg</td>\n",
       "      <td>1</td>\n",
       "      <td>1</td>\n",
       "      <td>0.0</td>\n",
       "      <td>1.0</td>\n",
       "      <td>2</td>\n",
       "    </tr>\n",
       "    <tr>\n",
       "      <th>1</th>\n",
       "      <td>1963/1964</td>\n",
       "      <td>1</td>\n",
       "      <td>1963-08-24</td>\n",
       "      <td>17:00</td>\n",
       "      <td>SV Werder Bremen</td>\n",
       "      <td>Borussia Dortmund</td>\n",
       "      <td>3</td>\n",
       "      <td>2</td>\n",
       "      <td>1.0</td>\n",
       "      <td>1.0</td>\n",
       "      <td>5</td>\n",
       "    </tr>\n",
       "    <tr>\n",
       "      <th>2</th>\n",
       "      <td>1963/1964</td>\n",
       "      <td>1</td>\n",
       "      <td>1963-08-24</td>\n",
       "      <td>17:00</td>\n",
       "      <td>Eintracht Frankfurt</td>\n",
       "      <td>1. FC Kaiserslautern</td>\n",
       "      <td>1</td>\n",
       "      <td>1</td>\n",
       "      <td>1.0</td>\n",
       "      <td>1.0</td>\n",
       "      <td>2</td>\n",
       "    </tr>\n",
       "    <tr>\n",
       "      <th>3</th>\n",
       "      <td>1963/1964</td>\n",
       "      <td>1</td>\n",
       "      <td>1963-08-24</td>\n",
       "      <td>17:00</td>\n",
       "      <td>Karlsruher SC</td>\n",
       "      <td>Meidericher SV</td>\n",
       "      <td>1</td>\n",
       "      <td>4</td>\n",
       "      <td>0.0</td>\n",
       "      <td>3.0</td>\n",
       "      <td>5</td>\n",
       "    </tr>\n",
       "    <tr>\n",
       "      <th>4</th>\n",
       "      <td>1963/1964</td>\n",
       "      <td>1</td>\n",
       "      <td>1963-08-24</td>\n",
       "      <td>17:00</td>\n",
       "      <td>TSV 1860 Muenchen</td>\n",
       "      <td>Eintracht Braunschweig</td>\n",
       "      <td>1</td>\n",
       "      <td>1</td>\n",
       "      <td>1.0</td>\n",
       "      <td>0.0</td>\n",
       "      <td>2</td>\n",
       "    </tr>\n",
       "  </tbody>\n",
       "</table>\n",
       "</div>"
      ],
      "text/plain": [
       "      Saison  Spieltag      Datum Anpfiff                 Heim  \\\n",
       "0  1963/1964         1 1963-08-24   17:00    Hertha BSC Berlin   \n",
       "1  1963/1964         1 1963-08-24   17:00     SV Werder Bremen   \n",
       "2  1963/1964         1 1963-08-24   17:00  Eintracht Frankfurt   \n",
       "3  1963/1964         1 1963-08-24   17:00        Karlsruher SC   \n",
       "4  1963/1964         1 1963-08-24   17:00    TSV 1860 Muenchen   \n",
       "\n",
       "                     Gast  Tore_Heim  Tore_Gast  Tore_Heim_Halbzeit  \\\n",
       "0         1. FC Nuernberg          1          1                 0.0   \n",
       "1       Borussia Dortmund          3          2                 1.0   \n",
       "2    1. FC Kaiserslautern          1          1                 1.0   \n",
       "3          Meidericher SV          1          4                 0.0   \n",
       "4  Eintracht Braunschweig          1          1                 1.0   \n",
       "\n",
       "   Tore_Gast_Halbzeit  Tore  \n",
       "0                 1.0     2  \n",
       "1                 1.0     5  \n",
       "2                 1.0     2  \n",
       "3                 3.0     5  \n",
       "4                 0.0     2  "
      ]
     },
     "execution_count": 17,
     "metadata": {},
     "output_type": "execute_result"
    }
   ],
   "source": [
    "df['Tore'] = df.Tore_Heim + df.Tore_Gast\n",
    "df.head()"
   ]
  },
  {
   "cell_type": "code",
   "execution_count": 18,
   "metadata": {},
   "outputs": [],
   "source": [
    "df['Tore_Erste_Halbzeit'] = df.Tore_Heim_Halbzeit + df.Tore_Gast_Halbzeit\n",
    "df['Tore_Zweite_Halbzeit'] = df.Tore - df.Tore_Erste_Halbzeit"
   ]
  },
  {
   "cell_type": "code",
   "execution_count": 21,
   "metadata": {},
   "outputs": [
    {
     "data": {
      "text/plain": [
       "306.0"
      ]
     },
     "execution_count": 21,
     "metadata": {},
     "output_type": "execute_result"
    }
   ],
   "source": [
    "SpieleSaison = df.groupby('Saison').size()\n",
    "SpieleSaison.median()"
   ]
  },
  {
   "cell_type": "markdown",
   "metadata": {},
   "source": [
    "Meistens werden 306 Spiele pro Saison ausgetragen. Wie viele Manschaften impliziert dies? (Jede Manschaft spielt gegen alle anderen einmal zu Hause und einmal auswärts!)\n",
    "\n",
    "$$ n \\cdot (n-1) = 306 $$\n",
    "\n",
    "$n=18$ Mannschaften spielen in der Regel in der Bundesliga."
   ]
  },
  {
   "cell_type": "markdown",
   "metadata": {},
   "source": [
    "### Einige Auswertungen"
   ]
  },
  {
   "cell_type": "code",
   "execution_count": 27,
   "metadata": {},
   "outputs": [
    {
     "data": {
      "image/png": "[encoded data removed]",
      "text/plain": [
       "<Figure size 432x288 with 1 Axes>"
      ]
     },
     "metadata": {
      "needs_background": "light"
     },
     "output_type": "display_data"
    }
   ],
   "source": [
    "df.Tore.hist();"
   ]
  },
  {
   "cell_type": "code",
   "execution_count": 28,
   "metadata": {},
   "outputs": [
    {
     "data": {
      "text/plain": [
       "0        2\n",
       "1        5\n",
       "2        2\n",
       "3        5\n",
       "4        2\n",
       "        ..\n",
       "13401    7\n",
       "13402    3\n",
       "13403    2\n",
       "13404    4\n",
       "13405    3\n",
       "Name: Tore, Length: 13406, dtype: int64"
      ]
     },
     "execution_count": 28,
     "metadata": {},
     "output_type": "execute_result"
    }
   ],
   "source": [
    "df.Tore"
   ]
  },
  {
   "cell_type": "code",
   "execution_count": 32,
   "metadata": {},
   "outputs": [
    {
     "data": {
      "image/png": "[encoded data removed]",
      "text/plain": [
       "<Figure size 432x288 with 1 Axes>"
      ]
     },
     "metadata": {
      "needs_background": "light"
     },
     "output_type": "display_data"
    }
   ],
   "source": [
    "df.boxplot(column='Tore', vert=False);"
   ]
  },
  {
   "cell_type": "markdown",
   "metadata": {},
   "source": [
    "Welches waren die torreichsten Spiele?"
   ]
  },
  {
   "cell_type": "code",
   "execution_count": 33,
   "metadata": {},
   "outputs": [
    {
     "data": {
      "text/html": [
       "<div>\n",
       "<style scoped>\n",
       "    .dataframe tbody tr th:only-of-type {\n",
       "        vertical-align: middle;\n",
       "    }\n",
       "\n",
       "    .dataframe tbody tr th {\n",
       "        vertical-align: top;\n",
       "    }\n",
       "\n",
       "    .dataframe thead th {\n",
       "        text-align: right;\n",
       "    }\n",
       "</style>\n",
       "<table border=\"1\" class=\"dataframe\">\n",
       "  <thead>\n",
       "    <tr style=\"text-align: right;\">\n",
       "      <th></th>\n",
       "      <th>Saison</th>\n",
       "      <th>Spieltag</th>\n",
       "      <th>Datum</th>\n",
       "      <th>Anpfiff</th>\n",
       "      <th>Heim</th>\n",
       "      <th>Gast</th>\n",
       "      <th>Tore_Heim</th>\n",
       "      <th>Tore_Gast</th>\n",
       "      <th>Tore_Heim_Halbzeit</th>\n",
       "      <th>Tore_Gast_Halbzeit</th>\n",
       "      <th>Tore</th>\n",
       "      <th>Tore_Erste_Halbzeit</th>\n",
       "      <th>Tore_Zweite_Halbzeit</th>\n",
       "    </tr>\n",
       "  </thead>\n",
       "  <tbody>\n",
       "    <tr>\n",
       "      <th>86</th>\n",
       "      <td>1963/1964</td>\n",
       "      <td>11</td>\n",
       "      <td>1963-11-16</td>\n",
       "      <td>17:30</td>\n",
       "      <td>Borussia Dortmund</td>\n",
       "      <td>1. FC Kaiserslautern</td>\n",
       "      <td>9</td>\n",
       "      <td>3</td>\n",
       "      <td>5.0</td>\n",
       "      <td>1.0</td>\n",
       "      <td>12</td>\n",
       "      <td>6.0</td>\n",
       "      <td>6.0</td>\n",
       "    </tr>\n",
       "    <tr>\n",
       "      <th>2458</th>\n",
       "      <td>1971/1972</td>\n",
       "      <td>16</td>\n",
       "      <td>1971-11-27</td>\n",
       "      <td>15:30</td>\n",
       "      <td>FC Bayern Muenchen</td>\n",
       "      <td>Borussia Dortmund</td>\n",
       "      <td>11</td>\n",
       "      <td>1</td>\n",
       "      <td>4.0</td>\n",
       "      <td>0.0</td>\n",
       "      <td>12</td>\n",
       "      <td>4.0</td>\n",
       "      <td>8.0</td>\n",
       "    </tr>\n",
       "    <tr>\n",
       "      <th>4048</th>\n",
       "      <td>1976/1977</td>\n",
       "      <td>23</td>\n",
       "      <td>1977-02-26</td>\n",
       "      <td>15:30</td>\n",
       "      <td>1. FC Koeln</td>\n",
       "      <td>Tennis Borussia Berlin</td>\n",
       "      <td>8</td>\n",
       "      <td>4</td>\n",
       "      <td>4.0</td>\n",
       "      <td>2.0</td>\n",
       "      <td>12</td>\n",
       "      <td>6.0</td>\n",
       "      <td>6.0</td>\n",
       "    </tr>\n",
       "    <tr>\n",
       "      <th>4454</th>\n",
       "      <td>1977/1978</td>\n",
       "      <td>34</td>\n",
       "      <td>1978-04-29</td>\n",
       "      <td>15:30</td>\n",
       "      <td>Borussia Moenchengladbach</td>\n",
       "      <td>Borussia Dortmund</td>\n",
       "      <td>12</td>\n",
       "      <td>0</td>\n",
       "      <td>6.0</td>\n",
       "      <td>0.0</td>\n",
       "      <td>12</td>\n",
       "      <td>6.0</td>\n",
       "      <td>6.0</td>\n",
       "    </tr>\n",
       "    <tr>\n",
       "      <th>5785</th>\n",
       "      <td>1982/1983</td>\n",
       "      <td>12</td>\n",
       "      <td>1982-11-06</td>\n",
       "      <td>15:30</td>\n",
       "      <td>Borussia Dortmund</td>\n",
       "      <td>Arminia Bielefeld</td>\n",
       "      <td>11</td>\n",
       "      <td>1</td>\n",
       "      <td>1.0</td>\n",
       "      <td>1.0</td>\n",
       "      <td>12</td>\n",
       "      <td>2.0</td>\n",
       "      <td>10.0</td>\n",
       "    </tr>\n",
       "  </tbody>\n",
       "</table>\n",
       "</div>"
      ],
      "text/plain": [
       "         Saison  Spieltag      Datum Anpfiff                       Heim  \\\n",
       "86    1963/1964        11 1963-11-16   17:30          Borussia Dortmund   \n",
       "2458  1971/1972        16 1971-11-27   15:30         FC Bayern Muenchen   \n",
       "4048  1976/1977        23 1977-02-26   15:30                1. FC Koeln   \n",
       "4454  1977/1978        34 1978-04-29   15:30  Borussia Moenchengladbach   \n",
       "5785  1982/1983        12 1982-11-06   15:30          Borussia Dortmund   \n",
       "\n",
       "                        Gast  Tore_Heim  Tore_Gast  Tore_Heim_Halbzeit  \\\n",
       "86      1. FC Kaiserslautern          9          3                 5.0   \n",
       "2458       Borussia Dortmund         11          1                 4.0   \n",
       "4048  Tennis Borussia Berlin          8          4                 4.0   \n",
       "4454       Borussia Dortmund         12          0                 6.0   \n",
       "5785       Arminia Bielefeld         11          1                 1.0   \n",
       "\n",
       "      Tore_Gast_Halbzeit  Tore  Tore_Erste_Halbzeit  Tore_Zweite_Halbzeit  \n",
       "86                   1.0    12                  6.0                   6.0  \n",
       "2458                 0.0    12                  4.0                   8.0  \n",
       "4048                 2.0    12                  6.0                   6.0  \n",
       "4454                 0.0    12                  6.0                   6.0  \n",
       "5785                 1.0    12                  2.0                  10.0  "
      ]
     },
     "execution_count": 33,
     "metadata": {},
     "output_type": "execute_result"
    }
   ],
   "source": [
    "df[df.Tore == df.Tore.max()]"
   ]
  },
  {
   "cell_type": "markdown",
   "metadata": {},
   "source": [
    "Wie ist hat sich die durchschnittlich Anzahl Tore pro Spiel über die Saisons verändert?"
   ]
  },
  {
   "cell_type": "code",
   "execution_count": 37,
   "metadata": {},
   "outputs": [
    {
     "data": {
      "text/plain": [
       "Saison\n",
       "1963/1964    3.570833\n",
       "1964/1965    3.316667\n",
       "1965/1966    3.225490\n",
       "1966/1967    2.924837\n",
       "1967/1968    3.245098\n",
       "Name: Tore, dtype: float64"
      ]
     },
     "execution_count": 37,
     "metadata": {},
     "output_type": "execute_result"
    }
   ],
   "source": [
    "ToreSaison = df.groupby('Saison').Tore.mean()\n",
    "ToreSaison.head()"
   ]
  },
  {
   "cell_type": "code",
   "execution_count": null,
   "metadata": {
    "collapsed": true
   },
   "outputs": [],
   "source": [
    "df['Nach1985'] = df.groupby()"
   ]
  },
  {
   "cell_type": "code",
   "execution_count": 39,
   "metadata": {},
   "outputs": [
    {
     "data": {
      "image/png": "[encoded data removed]",
      "text/plain": [
       "<Figure size 432x288 with 1 Axes>"
      ]
     },
     "metadata": {
      "needs_background": "light"
     },
     "output_type": "display_data"
    }
   ],
   "source": [
    "ToreSaison.index = range(1963, 2007) # x-Achse numerisch beschriften\n",
    "ToreSaison.plot()\n",
    "plt.ylabel('Mittlere Anzahl Tore pro Saison');"
   ]
  },
  {
   "cell_type": "code",
   "execution_count": 41,
   "metadata": {},
   "outputs": [
    {
     "data": {
      "image/png": "[encoded data removed]",
      "text/plain": [
       "<Figure size 432x432 with 1 Axes>"
      ]
     },
     "metadata": {
      "needs_background": "light"
     },
     "output_type": "display_data"
    }
   ],
   "source": [
    "# Toreverteilung vor und nach 1985:\n",
    "df['Nach1985'] = df.Datum.dt.year > 1985\n",
    "df.boxplot(column='Tore', by='Nach1985', figsize=(6, 6),\n",
    "          showmeans=True);"
   ]
  },
  {
   "cell_type": "code",
   "execution_count": 42,
   "metadata": {},
   "outputs": [
    {
     "data": {
      "text/html": [
       "<div>\n",
       "<style scoped>\n",
       "    .dataframe tbody tr th:only-of-type {\n",
       "        vertical-align: middle;\n",
       "    }\n",
       "\n",
       "    .dataframe tbody tr th {\n",
       "        vertical-align: top;\n",
       "    }\n",
       "\n",
       "    .dataframe thead th {\n",
       "        text-align: right;\n",
       "    }\n",
       "</style>\n",
       "<table border=\"1\" class=\"dataframe\">\n",
       "  <thead>\n",
       "    <tr style=\"text-align: right;\">\n",
       "      <th></th>\n",
       "      <th>count</th>\n",
       "      <th>mean</th>\n",
       "      <th>std</th>\n",
       "      <th>min</th>\n",
       "      <th>25%</th>\n",
       "      <th>50%</th>\n",
       "      <th>75%</th>\n",
       "      <th>max</th>\n",
       "    </tr>\n",
       "    <tr>\n",
       "      <th>Nach1985</th>\n",
       "      <th></th>\n",
       "      <th></th>\n",
       "      <th></th>\n",
       "      <th></th>\n",
       "      <th></th>\n",
       "      <th></th>\n",
       "      <th></th>\n",
       "      <th></th>\n",
       "    </tr>\n",
       "  </thead>\n",
       "  <tbody>\n",
       "    <tr>\n",
       "      <th>False</th>\n",
       "      <td>6753.0</td>\n",
       "      <td>3.318229</td>\n",
       "      <td>1.928180</td>\n",
       "      <td>0.0</td>\n",
       "      <td>2.0</td>\n",
       "      <td>3.0</td>\n",
       "      <td>4.0</td>\n",
       "      <td>12.0</td>\n",
       "    </tr>\n",
       "    <tr>\n",
       "      <th>True</th>\n",
       "      <td>6653.0</td>\n",
       "      <td>2.876597</td>\n",
       "      <td>1.731603</td>\n",
       "      <td>0.0</td>\n",
       "      <td>2.0</td>\n",
       "      <td>3.0</td>\n",
       "      <td>4.0</td>\n",
       "      <td>11.0</td>\n",
       "    </tr>\n",
       "  </tbody>\n",
       "</table>\n",
       "</div>"
      ],
      "text/plain": [
       "           count      mean       std  min  25%  50%  75%   max\n",
       "Nach1985                                                      \n",
       "False     6753.0  3.318229  1.928180  0.0  2.0  3.0  4.0  12.0\n",
       "True      6653.0  2.876597  1.731603  0.0  2.0  3.0  4.0  11.0"
      ]
     },
     "execution_count": 42,
     "metadata": {},
     "output_type": "execute_result"
    }
   ],
   "source": [
    "df.groupby('Nach1985').Tore.describe()"
   ]
  },
  {
   "cell_type": "markdown",
   "metadata": {},
   "source": [
    "### Gemeinsame Häufigkeiten bezüglich Tore in der ersten und zweiten Halbzeit"
   ]
  },
  {
   "cell_type": "code",
   "execution_count": 51,
   "metadata": {},
   "outputs": [
    {
     "data": {
      "text/html": [
       "<div>\n",
       "<style scoped>\n",
       "    .dataframe tbody tr th:only-of-type {\n",
       "        vertical-align: middle;\n",
       "    }\n",
       "\n",
       "    .dataframe tbody tr th {\n",
       "        vertical-align: top;\n",
       "    }\n",
       "\n",
       "    .dataframe thead th {\n",
       "        text-align: right;\n",
       "    }\n",
       "</style>\n",
       "<table border=\"1\" class=\"dataframe\">\n",
       "  <thead>\n",
       "    <tr style=\"text-align: right;\">\n",
       "      <th>Tore_Zweite_Halbzeit</th>\n",
       "      <th>False</th>\n",
       "      <th>True</th>\n",
       "      <th>All</th>\n",
       "    </tr>\n",
       "    <tr>\n",
       "      <th>Tore_Erste_Halbzeit</th>\n",
       "      <th></th>\n",
       "      <th></th>\n",
       "      <th></th>\n",
       "    </tr>\n",
       "  </thead>\n",
       "  <tbody>\n",
       "    <tr>\n",
       "      <th>False</th>\n",
       "      <td>0.07</td>\n",
       "      <td>0.20</td>\n",
       "      <td>0.26</td>\n",
       "    </tr>\n",
       "    <tr>\n",
       "      <th>True</th>\n",
       "      <td>0.12</td>\n",
       "      <td>0.62</td>\n",
       "      <td>0.74</td>\n",
       "    </tr>\n",
       "    <tr>\n",
       "      <th>All</th>\n",
       "      <td>0.18</td>\n",
       "      <td>0.82</td>\n",
       "      <td>1.00</td>\n",
       "    </tr>\n",
       "  </tbody>\n",
       "</table>\n",
       "</div>"
      ],
      "text/plain": [
       "Tore_Zweite_Halbzeit  False  True   All\n",
       "Tore_Erste_Halbzeit                    \n",
       "False                  0.07  0.20  0.26\n",
       "True                   0.12  0.62  0.74\n",
       "All                    0.18  0.82  1.00"
      ]
     },
     "execution_count": 51,
     "metadata": {},
     "output_type": "execute_result"
    }
   ],
   "source": [
    "pd.crosstab(index=df.Tore_Erste_Halbzeit > 0, columns=df.Tore_Zweite_Halbzeit > 0, \n",
    "            normalize=True, margins=True).round(2)"
   ]
  },
  {
   "cell_type": "markdown",
   "metadata": {},
   "source": [
    "### Nun die bedingte Verteilung (Bedingung auf erste Halbzeit)"
   ]
  },
  {
   "cell_type": "code",
   "execution_count": 52,
   "metadata": {},
   "outputs": [
    {
     "data": {
      "text/html": [
       "<div>\n",
       "<style scoped>\n",
       "    .dataframe tbody tr th:only-of-type {\n",
       "        vertical-align: middle;\n",
       "    }\n",
       "\n",
       "    .dataframe tbody tr th {\n",
       "        vertical-align: top;\n",
       "    }\n",
       "\n",
       "    .dataframe thead th {\n",
       "        text-align: right;\n",
       "    }\n",
       "</style>\n",
       "<table border=\"1\" class=\"dataframe\">\n",
       "  <thead>\n",
       "    <tr style=\"text-align: right;\">\n",
       "      <th>Tore_Zweite_Halbzeit</th>\n",
       "      <th>False</th>\n",
       "      <th>True</th>\n",
       "    </tr>\n",
       "    <tr>\n",
       "      <th>Tore_Erste_Halbzeit</th>\n",
       "      <th></th>\n",
       "      <th></th>\n",
       "    </tr>\n",
       "  </thead>\n",
       "  <tbody>\n",
       "    <tr>\n",
       "      <th>False</th>\n",
       "      <td>0.25</td>\n",
       "      <td>0.75</td>\n",
       "    </tr>\n",
       "    <tr>\n",
       "      <th>True</th>\n",
       "      <td>0.16</td>\n",
       "      <td>0.84</td>\n",
       "    </tr>\n",
       "    <tr>\n",
       "      <th>All</th>\n",
       "      <td>0.18</td>\n",
       "      <td>0.82</td>\n",
       "    </tr>\n",
       "  </tbody>\n",
       "</table>\n",
       "</div>"
      ],
      "text/plain": [
       "Tore_Zweite_Halbzeit  False  True \n",
       "Tore_Erste_Halbzeit               \n",
       "False                  0.25   0.75\n",
       "True                   0.16   0.84\n",
       "All                    0.18   0.82"
      ]
     },
     "execution_count": 52,
     "metadata": {},
     "output_type": "execute_result"
    }
   ],
   "source": [
    "pd.crosstab(index=df.Tore_Erste_Halbzeit > 0, columns=df.Tore_Zweite_Halbzeit > 0, \n",
    "            normalize='index', margins=True).round(2)"
   ]
  },
  {
   "cell_type": "markdown",
   "metadata": {},
   "source": [
    "### Wie viele Spiele wurden vom Heimteam (1), Gastteam (2) oder keinem (X) gewonnen?"
   ]
  },
  {
   "cell_type": "code",
   "execution_count": 53,
   "metadata": {},
   "outputs": [
    {
     "data": {
      "text/html": [
       "<div>\n",
       "<style scoped>\n",
       "    .dataframe tbody tr th:only-of-type {\n",
       "        vertical-align: middle;\n",
       "    }\n",
       "\n",
       "    .dataframe tbody tr th {\n",
       "        vertical-align: top;\n",
       "    }\n",
       "\n",
       "    .dataframe thead th {\n",
       "        text-align: right;\n",
       "    }\n",
       "</style>\n",
       "<table border=\"1\" class=\"dataframe\">\n",
       "  <thead>\n",
       "    <tr style=\"text-align: right;\">\n",
       "      <th></th>\n",
       "      <th>Saison</th>\n",
       "      <th>Spieltag</th>\n",
       "      <th>Datum</th>\n",
       "      <th>Anpfiff</th>\n",
       "      <th>Heim</th>\n",
       "      <th>Gast</th>\n",
       "      <th>Tore_Heim</th>\n",
       "      <th>Tore_Gast</th>\n",
       "      <th>Tore_Heim_Halbzeit</th>\n",
       "      <th>Tore_Gast_Halbzeit</th>\n",
       "      <th>Tore</th>\n",
       "      <th>Tore_Erste_Halbzeit</th>\n",
       "      <th>Tore_Zweite_Halbzeit</th>\n",
       "      <th>Nach1985</th>\n",
       "      <th>Gewonnen</th>\n",
       "    </tr>\n",
       "  </thead>\n",
       "  <tbody>\n",
       "    <tr>\n",
       "      <th>0</th>\n",
       "      <td>1963/1964</td>\n",
       "      <td>1</td>\n",
       "      <td>1963-08-24</td>\n",
       "      <td>17:00</td>\n",
       "      <td>Hertha BSC Berlin</td>\n",
       "      <td>1. FC Nuernberg</td>\n",
       "      <td>1</td>\n",
       "      <td>1</td>\n",
       "      <td>0.0</td>\n",
       "      <td>1.0</td>\n",
       "      <td>2</td>\n",
       "      <td>1.0</td>\n",
       "      <td>1.0</td>\n",
       "      <td>False</td>\n",
       "      <td>0</td>\n",
       "    </tr>\n",
       "    <tr>\n",
       "      <th>1</th>\n",
       "      <td>1963/1964</td>\n",
       "      <td>1</td>\n",
       "      <td>1963-08-24</td>\n",
       "      <td>17:00</td>\n",
       "      <td>SV Werder Bremen</td>\n",
       "      <td>Borussia Dortmund</td>\n",
       "      <td>3</td>\n",
       "      <td>2</td>\n",
       "      <td>1.0</td>\n",
       "      <td>1.0</td>\n",
       "      <td>5</td>\n",
       "      <td>2.0</td>\n",
       "      <td>3.0</td>\n",
       "      <td>False</td>\n",
       "      <td>1</td>\n",
       "    </tr>\n",
       "    <tr>\n",
       "      <th>2</th>\n",
       "      <td>1963/1964</td>\n",
       "      <td>1</td>\n",
       "      <td>1963-08-24</td>\n",
       "      <td>17:00</td>\n",
       "      <td>Eintracht Frankfurt</td>\n",
       "      <td>1. FC Kaiserslautern</td>\n",
       "      <td>1</td>\n",
       "      <td>1</td>\n",
       "      <td>1.0</td>\n",
       "      <td>1.0</td>\n",
       "      <td>2</td>\n",
       "      <td>2.0</td>\n",
       "      <td>0.0</td>\n",
       "      <td>False</td>\n",
       "      <td>0</td>\n",
       "    </tr>\n",
       "    <tr>\n",
       "      <th>3</th>\n",
       "      <td>1963/1964</td>\n",
       "      <td>1</td>\n",
       "      <td>1963-08-24</td>\n",
       "      <td>17:00</td>\n",
       "      <td>Karlsruher SC</td>\n",
       "      <td>Meidericher SV</td>\n",
       "      <td>1</td>\n",
       "      <td>4</td>\n",
       "      <td>0.0</td>\n",
       "      <td>3.0</td>\n",
       "      <td>5</td>\n",
       "      <td>3.0</td>\n",
       "      <td>2.0</td>\n",
       "      <td>False</td>\n",
       "      <td>2</td>\n",
       "    </tr>\n",
       "    <tr>\n",
       "      <th>4</th>\n",
       "      <td>1963/1964</td>\n",
       "      <td>1</td>\n",
       "      <td>1963-08-24</td>\n",
       "      <td>17:00</td>\n",
       "      <td>TSV 1860 Muenchen</td>\n",
       "      <td>Eintracht Braunschweig</td>\n",
       "      <td>1</td>\n",
       "      <td>1</td>\n",
       "      <td>1.0</td>\n",
       "      <td>0.0</td>\n",
       "      <td>2</td>\n",
       "      <td>1.0</td>\n",
       "      <td>1.0</td>\n",
       "      <td>False</td>\n",
       "      <td>0</td>\n",
       "    </tr>\n",
       "  </tbody>\n",
       "</table>\n",
       "</div>"
      ],
      "text/plain": [
       "      Saison  Spieltag      Datum Anpfiff                 Heim  \\\n",
       "0  1963/1964         1 1963-08-24   17:00    Hertha BSC Berlin   \n",
       "1  1963/1964         1 1963-08-24   17:00     SV Werder Bremen   \n",
       "2  1963/1964         1 1963-08-24   17:00  Eintracht Frankfurt   \n",
       "3  1963/1964         1 1963-08-24   17:00        Karlsruher SC   \n",
       "4  1963/1964         1 1963-08-24   17:00    TSV 1860 Muenchen   \n",
       "\n",
       "                     Gast  Tore_Heim  Tore_Gast  Tore_Heim_Halbzeit  \\\n",
       "0         1. FC Nuernberg          1          1                 0.0   \n",
       "1       Borussia Dortmund          3          2                 1.0   \n",
       "2    1. FC Kaiserslautern          1          1                 1.0   \n",
       "3          Meidericher SV          1          4                 0.0   \n",
       "4  Eintracht Braunschweig          1          1                 1.0   \n",
       "\n",
       "   Tore_Gast_Halbzeit  Tore  Tore_Erste_Halbzeit  Tore_Zweite_Halbzeit  \\\n",
       "0                 1.0     2                  1.0                   1.0   \n",
       "1                 1.0     5                  2.0                   3.0   \n",
       "2                 1.0     2                  2.0                   0.0   \n",
       "3                 3.0     5                  3.0                   2.0   \n",
       "4                 0.0     2                  1.0                   1.0   \n",
       "\n",
       "   Nach1985  Gewonnen  \n",
       "0     False         0  \n",
       "1     False         1  \n",
       "2     False         0  \n",
       "3     False         2  \n",
       "4     False         0  "
      ]
     },
     "execution_count": 53,
     "metadata": {},
     "output_type": "execute_result"
    }
   ],
   "source": [
    "df['Gewonnen'] = np.select([df.Tore_Heim > df.Tore_Gast, \n",
    "                            df.Tore_Heim < df.Tore_Gast],\n",
    "                          [1, 2], default=0)\n",
    "df.head()\n",
    "# Alternativ mit verschachteltem np.where()"
   ]
  },
  {
   "cell_type": "code",
   "execution_count": 55,
   "metadata": {},
   "outputs": [
    {
     "data": {
      "text/plain": [
       "1    0.52\n",
       "0    0.26\n",
       "2    0.22\n",
       "Name: Gewonnen, dtype: float64"
      ]
     },
     "execution_count": 55,
     "metadata": {},
     "output_type": "execute_result"
    }
   ],
   "source": [
    "df.Gewonnen.value_counts(normalize=True).round(2)"
   ]
  },
  {
   "cell_type": "code",
   "execution_count": 57,
   "metadata": {},
   "outputs": [
    {
     "data": {
      "text/plain": [
       "0    0.26\n",
       "1    0.52\n",
       "2    0.22\n",
       "Name: Gewonnen, dtype: float64"
      ]
     },
     "execution_count": 57,
     "metadata": {},
     "output_type": "execute_result"
    }
   ],
   "source": [
    "df.Gewonnen.value_counts(normalize=True, sort=False).round(2)"
   ]
  },
  {
   "cell_type": "markdown",
   "metadata": {},
   "source": [
    "Welche und wie viele Mannschaften haben in den untersuchten Saisons gespielt?"
   ]
  },
  {
   "cell_type": "code",
   "execution_count": 59,
   "metadata": {},
   "outputs": [
    {
     "data": {
      "text/plain": [
       "0      Hertha BSC Berlin\n",
       "1       SV Werder Bremen\n",
       "2    Eintracht Frankfurt\n",
       "3          Karlsruher SC\n",
       "4      TSV 1860 Muenchen\n",
       "dtype: object"
      ]
     },
     "execution_count": 59,
     "metadata": {},
     "output_type": "execute_result"
    }
   ],
   "source": [
    "Teams = df.Heim.append(df.Gast)\n",
    "Teams.head()"
   ]
  },
  {
   "cell_type": "code",
   "execution_count": 60,
   "metadata": {},
   "outputs": [
    {
     "data": {
      "text/plain": [
       "50"
      ]
     },
     "execution_count": 60,
     "metadata": {},
     "output_type": "execute_result"
    }
   ],
   "source": [
    "Teams.nunique()"
   ]
  },
  {
   "cell_type": "markdown",
   "metadata": {},
   "source": [
    "Welche drei Mannschaften haben die meisten Spiele in den untersuchten Saisons?"
   ]
  },
  {
   "cell_type": "code",
   "execution_count": 61,
   "metadata": {},
   "outputs": [
    {
     "data": {
      "text/plain": [
       "Hamburger SV          1492\n",
       "SV Werder Bremen      1458\n",
       "FC Bayern Muenchen    1432\n",
       "dtype: int64"
      ]
     },
     "execution_count": 61,
     "metadata": {},
     "output_type": "execute_result"
    }
   ],
   "source": [
    "Teams.value_counts().head(3)"
   ]
  }
 ],
 "metadata": {
  "kernelspec": {
   "display_name": "Python 3",
   "language": "python",
   "name": "python3"
  },
  "language_info": {
   "codemirror_mode": {
    "name": "ipython",
    "version": 3
   },
   "file_extension": ".py",
   "mimetype": "text/x-python",
   "name": "python",
   "nbconvert_exporter": "python",
   "pygments_lexer": "ipython3",
   "version": "3.8.3"
  }
 },
 "nbformat": 4,
 "nbformat_minor": 2
}
