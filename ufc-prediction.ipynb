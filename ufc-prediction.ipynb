{
 "cells": [
  {
   "cell_type": "markdown",
   "metadata": {},
   "source": [
    "The following notebook is divided into 3 parts:\n",
    "1. Baseline model - Building a simple baseline model with basic modifications\n",
    "2. Data Visualization - Using the power of visualization to gain a deeper insight into our data.\n",
    "3. Feature Engineering and building the final model - After both the steps above are done, using feature engineering to strengthen our input and build a model more powerful than the baseline"
   ]
  },
  {
   "cell_type": "code",
   "execution_count": 1,
   "metadata": {
    "_cell_guid": "79c7e3d0-c299-4dcb-8224-4455121ee9b0",
    "_uuid": "d629ff2d2480ee46fbb7e2d37f6b5fab8052498a",
    "execution": {
     "iopub.execute_input": "2024-09-19T13:38:50.689866Z",
     "iopub.status.busy": "2024-09-19T13:38:50.688926Z",
     "iopub.status.idle": "2024-09-19T13:38:51.975993Z",
     "shell.execute_reply": "2024-09-19T13:38:51.976592Z",
     "shell.execute_reply.started": "2021-12-18T10:24:14.432492Z"
    },
    "papermill": {
     "duration": 1.368424,
     "end_time": "2024-09-19T13:38:51.976811",
     "exception": false,
     "start_time": "2024-09-19T13:38:50.608387",
     "status": "completed"
    },
    "tags": []
   },
   "outputs": [],
   "source": [
    "#Import Cell\n",
    "#used to import all the libraries and functions used\n",
    "import numpy as np\n",
    "import pandas as pd\n",
    "import matplotlib.pyplot as plt\n",
    "import seaborn as sns\n",
    "from sklearn.model_selection import train_test_split, GridSearchCV\n",
    "from sklearn.ensemble import RandomForestClassifier\n",
    "from sklearn.impute import SimpleImputer\n",
    "from sklearn.preprocessing import LabelEncoder\n",
    "from sklearn.metrics import accuracy_score\n",
    "import sys, warnings, os\n",
    "from sklearn.dummy import DummyClassifier"
   ]
  },
  {
   "cell_type": "code",
   "execution_count": 2,
   "metadata": {
    "execution": {
     "iopub.execute_input": "2024-09-19T13:38:52.120639Z",
     "iopub.status.busy": "2024-09-19T13:38:52.119423Z",
     "iopub.status.idle": "2024-09-19T13:38:52.122567Z",
     "shell.execute_reply": "2024-09-19T13:38:52.121804Z",
     "shell.execute_reply.started": "2021-12-18T10:24:15.560009Z"
    },
    "papermill": {
     "duration": 0.077137,
     "end_time": "2024-09-19T13:38:52.122710",
     "exception": false,
     "start_time": "2024-09-19T13:38:52.045573",
     "status": "completed"
    },
    "tags": []
   },
   "outputs": [],
   "source": [
    "#To ignore max-iteration warnings while cross validating scores\n",
    "if not sys.warnoptions:\n",
    "    warnings.simplefilter(\"ignore\")\n",
    "    os.environ[\"PYTHONWARNINGS\"] = \"ignore\""
   ]
  },
  {
   "cell_type": "code",
   "execution_count": 3,
   "metadata": {
    "execution": {
     "iopub.execute_input": "2024-09-19T13:38:52.270701Z",
     "iopub.status.busy": "2024-09-19T13:38:52.269548Z",
     "iopub.status.idle": "2024-09-19T13:38:52.272805Z",
     "shell.execute_reply": "2024-09-19T13:38:52.272223Z",
     "shell.execute_reply.started": "2021-12-18T10:24:15.566740Z"
    },
    "papermill": {
     "duration": 0.080171,
     "end_time": "2024-09-19T13:38:52.272954",
     "exception": false,
     "start_time": "2024-09-19T13:38:52.192783",
     "status": "completed"
    },
    "tags": []
   },
   "outputs": [],
   "source": [
    "#Setting columns and rows to display all the results\n",
    "pd.set_option(\"display.max_columns\", None, \"display.max_rows\", None)"
   ]
  },
  {
   "cell_type": "code",
   "execution_count": 4,
   "metadata": {
    "execution": {
     "iopub.execute_input": "2024-09-19T13:38:52.422432Z",
     "iopub.status.busy": "2024-09-19T13:38:52.421534Z",
     "iopub.status.idle": "2024-09-19T13:38:52.708658Z",
     "shell.execute_reply": "2024-09-19T13:38:52.707046Z",
     "shell.execute_reply.started": "2021-12-18T10:24:15.576052Z"
    },
    "papermill": {
     "duration": 0.366872,
     "end_time": "2024-09-19T13:38:52.708883",
     "exception": true,
     "start_time": "2024-09-19T13:38:52.342011",
     "status": "failed"
    },
    "tags": []
   },
   "outputs": [
    {
     "ename": "KeyError",
     "evalue": "'[\"B_Women\\'s Featherweight_rank\"] not found in axis'",
     "output_type": "error",
     "traceback": [
      "\u001b[0;31m---------------------------------------------------------------------------\u001b[0m",
      "\u001b[0;31mKeyError\u001b[0m                                  Traceback (most recent call last)",
      "\u001b[0;32m<ipython-input-4-025e57cd03fa>\u001b[0m in \u001b[0;36m<module>\u001b[0;34m\u001b[0m\n\u001b[1;32m      4\u001b[0m \u001b[0mlabel\u001b[0m \u001b[0;34m=\u001b[0m \u001b[0mufc_master_ds\u001b[0m\u001b[0;34m.\u001b[0m\u001b[0mWinner\u001b[0m\u001b[0;34m\u001b[0m\u001b[0;34m\u001b[0m\u001b[0m\n\u001b[1;32m      5\u001b[0m \u001b[0;31m#I have removed \"B_Women's Featherweight_rank\" because imputing with this feature in the dataset gives me a ton of errors in the baseline model.\u001b[0m\u001b[0;34m\u001b[0m\u001b[0;34m\u001b[0m\u001b[0;34m\u001b[0m\u001b[0m\n\u001b[0;32m----> 6\u001b[0;31m \u001b[0mX\u001b[0m \u001b[0;34m=\u001b[0m \u001b[0mufc_master_ds\u001b[0m\u001b[0;34m.\u001b[0m\u001b[0mdrop\u001b[0m\u001b[0;34m(\u001b[0m\u001b[0;34m[\u001b[0m\u001b[0;34m'Winner'\u001b[0m\u001b[0;34m,\u001b[0m\u001b[0;34m\"B_Women's Featherweight_rank\"\u001b[0m\u001b[0;34m]\u001b[0m\u001b[0;34m,\u001b[0m \u001b[0maxis\u001b[0m \u001b[0;34m=\u001b[0m\u001b[0;36m1\u001b[0m\u001b[0;34m)\u001b[0m\u001b[0;34m\u001b[0m\u001b[0;34m\u001b[0m\u001b[0m\n\u001b[0m",
      "\u001b[0;32m/opt/conda/lib/python3.7/site-packages/pandas/core/frame.py\u001b[0m in \u001b[0;36mdrop\u001b[0;34m(self, labels, axis, index, columns, level, inplace, errors)\u001b[0m\n\u001b[1;32m   4168\u001b[0m             \u001b[0mlevel\u001b[0m\u001b[0;34m=\u001b[0m\u001b[0mlevel\u001b[0m\u001b[0;34m,\u001b[0m\u001b[0;34m\u001b[0m\u001b[0;34m\u001b[0m\u001b[0m\n\u001b[1;32m   4169\u001b[0m             \u001b[0minplace\u001b[0m\u001b[0;34m=\u001b[0m\u001b[0minplace\u001b[0m\u001b[0;34m,\u001b[0m\u001b[0;34m\u001b[0m\u001b[0;34m\u001b[0m\u001b[0m\n\u001b[0;32m-> 4170\u001b[0;31m             \u001b[0merrors\u001b[0m\u001b[0;34m=\u001b[0m\u001b[0merrors\u001b[0m\u001b[0;34m,\u001b[0m\u001b[0;34m\u001b[0m\u001b[0;34m\u001b[0m\u001b[0m\n\u001b[0m\u001b[1;32m   4171\u001b[0m         )\n\u001b[1;32m   4172\u001b[0m \u001b[0;34m\u001b[0m\u001b[0m\n",
      "\u001b[0;32m/opt/conda/lib/python3.7/site-packages/pandas/core/generic.py\u001b[0m in \u001b[0;36mdrop\u001b[0;34m(self, labels, axis, index, columns, level, inplace, errors)\u001b[0m\n\u001b[1;32m   3885\u001b[0m         \u001b[0;32mfor\u001b[0m \u001b[0maxis\u001b[0m\u001b[0;34m,\u001b[0m \u001b[0mlabels\u001b[0m \u001b[0;32min\u001b[0m \u001b[0maxes\u001b[0m\u001b[0;34m.\u001b[0m\u001b[0mitems\u001b[0m\u001b[0;34m(\u001b[0m\u001b[0;34m)\u001b[0m\u001b[0;34m:\u001b[0m\u001b[0;34m\u001b[0m\u001b[0;34m\u001b[0m\u001b[0m\n\u001b[1;32m   3886\u001b[0m             \u001b[0;32mif\u001b[0m \u001b[0mlabels\u001b[0m \u001b[0;32mis\u001b[0m \u001b[0;32mnot\u001b[0m \u001b[0;32mNone\u001b[0m\u001b[0;34m:\u001b[0m\u001b[0;34m\u001b[0m\u001b[0;34m\u001b[0m\u001b[0m\n\u001b[0;32m-> 3887\u001b[0;31m                 \u001b[0mobj\u001b[0m \u001b[0;34m=\u001b[0m \u001b[0mobj\u001b[0m\u001b[0;34m.\u001b[0m\u001b[0m_drop_axis\u001b[0m\u001b[0;34m(\u001b[0m\u001b[0mlabels\u001b[0m\u001b[0;34m,\u001b[0m \u001b[0maxis\u001b[0m\u001b[0;34m,\u001b[0m \u001b[0mlevel\u001b[0m\u001b[0;34m=\u001b[0m\u001b[0mlevel\u001b[0m\u001b[0;34m,\u001b[0m \u001b[0merrors\u001b[0m\u001b[0;34m=\u001b[0m\u001b[0merrors\u001b[0m\u001b[0;34m)\u001b[0m\u001b[0;34m\u001b[0m\u001b[0;34m\u001b[0m\u001b[0m\n\u001b[0m\u001b[1;32m   3888\u001b[0m \u001b[0;34m\u001b[0m\u001b[0m\n\u001b[1;32m   3889\u001b[0m         \u001b[0;32mif\u001b[0m \u001b[0minplace\u001b[0m\u001b[0;34m:\u001b[0m\u001b[0;34m\u001b[0m\u001b[0;34m\u001b[0m\u001b[0m\n",
      "\u001b[0;32m/opt/conda/lib/python3.7/site-packages/pandas/core/generic.py\u001b[0m in \u001b[0;36m_drop_axis\u001b[0;34m(self, labels, axis, level, errors)\u001b[0m\n\u001b[1;32m   3919\u001b[0m                 \u001b[0mnew_axis\u001b[0m \u001b[0;34m=\u001b[0m \u001b[0maxis\u001b[0m\u001b[0;34m.\u001b[0m\u001b[0mdrop\u001b[0m\u001b[0;34m(\u001b[0m\u001b[0mlabels\u001b[0m\u001b[0;34m,\u001b[0m \u001b[0mlevel\u001b[0m\u001b[0;34m=\u001b[0m\u001b[0mlevel\u001b[0m\u001b[0;34m,\u001b[0m \u001b[0merrors\u001b[0m\u001b[0;34m=\u001b[0m\u001b[0merrors\u001b[0m\u001b[0;34m)\u001b[0m\u001b[0;34m\u001b[0m\u001b[0;34m\u001b[0m\u001b[0m\n\u001b[1;32m   3920\u001b[0m             \u001b[0;32melse\u001b[0m\u001b[0;34m:\u001b[0m\u001b[0;34m\u001b[0m\u001b[0;34m\u001b[0m\u001b[0m\n\u001b[0;32m-> 3921\u001b[0;31m                 \u001b[0mnew_axis\u001b[0m \u001b[0;34m=\u001b[0m \u001b[0maxis\u001b[0m\u001b[0;34m.\u001b[0m\u001b[0mdrop\u001b[0m\u001b[0;34m(\u001b[0m\u001b[0mlabels\u001b[0m\u001b[0;34m,\u001b[0m \u001b[0merrors\u001b[0m\u001b[0;34m=\u001b[0m\u001b[0merrors\u001b[0m\u001b[0;34m)\u001b[0m\u001b[0;34m\u001b[0m\u001b[0;34m\u001b[0m\u001b[0m\n\u001b[0m\u001b[1;32m   3922\u001b[0m             \u001b[0mresult\u001b[0m \u001b[0;34m=\u001b[0m \u001b[0mself\u001b[0m\u001b[0;34m.\u001b[0m\u001b[0mreindex\u001b[0m\u001b[0;34m(\u001b[0m\u001b[0;34m**\u001b[0m\u001b[0;34m{\u001b[0m\u001b[0maxis_name\u001b[0m\u001b[0;34m:\u001b[0m \u001b[0mnew_axis\u001b[0m\u001b[0;34m}\u001b[0m\u001b[0;34m)\u001b[0m\u001b[0;34m\u001b[0m\u001b[0;34m\u001b[0m\u001b[0m\n\u001b[1;32m   3923\u001b[0m \u001b[0;34m\u001b[0m\u001b[0m\n",
      "\u001b[0;32m/opt/conda/lib/python3.7/site-packages/pandas/core/indexes/base.py\u001b[0m in \u001b[0;36mdrop\u001b[0;34m(self, labels, errors)\u001b[0m\n\u001b[1;32m   5280\u001b[0m         \u001b[0;32mif\u001b[0m \u001b[0mmask\u001b[0m\u001b[0;34m.\u001b[0m\u001b[0many\u001b[0m\u001b[0;34m(\u001b[0m\u001b[0;34m)\u001b[0m\u001b[0;34m:\u001b[0m\u001b[0;34m\u001b[0m\u001b[0;34m\u001b[0m\u001b[0m\n\u001b[1;32m   5281\u001b[0m             \u001b[0;32mif\u001b[0m \u001b[0merrors\u001b[0m \u001b[0;34m!=\u001b[0m \u001b[0;34m\"ignore\"\u001b[0m\u001b[0;34m:\u001b[0m\u001b[0;34m\u001b[0m\u001b[0;34m\u001b[0m\u001b[0m\n\u001b[0;32m-> 5282\u001b[0;31m                 \u001b[0;32mraise\u001b[0m \u001b[0mKeyError\u001b[0m\u001b[0;34m(\u001b[0m\u001b[0;34mf\"{labels[mask]} not found in axis\"\u001b[0m\u001b[0;34m)\u001b[0m\u001b[0;34m\u001b[0m\u001b[0;34m\u001b[0m\u001b[0m\n\u001b[0m\u001b[1;32m   5283\u001b[0m             \u001b[0mindexer\u001b[0m \u001b[0;34m=\u001b[0m \u001b[0mindexer\u001b[0m\u001b[0;34m[\u001b[0m\u001b[0;34m~\u001b[0m\u001b[0mmask\u001b[0m\u001b[0;34m]\u001b[0m\u001b[0;34m\u001b[0m\u001b[0;34m\u001b[0m\u001b[0m\n\u001b[1;32m   5284\u001b[0m         \u001b[0;32mreturn\u001b[0m \u001b[0mself\u001b[0m\u001b[0;34m.\u001b[0m\u001b[0mdelete\u001b[0m\u001b[0;34m(\u001b[0m\u001b[0mindexer\u001b[0m\u001b[0;34m)\u001b[0m\u001b[0;34m\u001b[0m\u001b[0;34m\u001b[0m\u001b[0m\n",
      "\u001b[0;31mKeyError\u001b[0m: '[\"B_Women\\'s Featherweight_rank\"] not found in axis'"
     ]
    }
   ],
   "source": [
    "#Reading the dataset\n",
    "ufc_master_ds = pd.read_csv(\"../input/ultimate-ufc-dataset/ufc-master.csv\")\n",
    "#Seperating label from input\n",
    "label = ufc_master_ds.Winner\n",
    "#I have removed \"B_Women's Featherweight_rank\" because imputing with this feature in the dataset gives me a ton of errors in the baseline model.\n",
    "X = ufc_master_ds.drop(['Winner',\"B_Women's Featherweight_rank\"], axis =1)"
   ]
  },
  {
   "cell_type": "code",
   "execution_count": null,
   "metadata": {
    "execution": {
     "iopub.execute_input": "2021-12-18T10:24:15.707111Z",
     "iopub.status.busy": "2021-12-18T10:24:15.706813Z",
     "iopub.status.idle": "2021-12-18T10:24:15.784942Z",
     "shell.execute_reply": "2021-12-18T10:24:15.784123Z",
     "shell.execute_reply.started": "2021-12-18T10:24:15.707083Z"
    },
    "papermill": {
     "duration": null,
     "end_time": null,
     "exception": null,
     "start_time": null,
     "status": "pending"
    },
    "tags": []
   },
   "outputs": [],
   "source": [
    "X.head()"
   ]
  },
  {
   "cell_type": "markdown",
   "metadata": {
    "papermill": {
     "duration": null,
     "end_time": null,
     "exception": null,
     "start_time": null,
     "status": "pending"
    },
    "tags": []
   },
   "source": [
    "# 1. Creating a baseline model\n",
    "\n",
    " Since this is a classification task, the target value will be 'Winner'."
   ]
  },
  {
   "cell_type": "markdown",
   "metadata": {
    "papermill": {
     "duration": null,
     "end_time": null,
     "exception": null,
     "start_time": null,
     "status": "pending"
    },
    "tags": []
   },
   "source": [
    "***Encoding categorical variables***\n",
    "\n",
    "I'll be encoding the categorical columns prior to doing anything so it'll be easier for me to split the data while avoiding data leakage."
   ]
  },
  {
   "cell_type": "code",
   "execution_count": null,
   "metadata": {
    "execution": {
     "iopub.execute_input": "2021-12-18T10:24:15.788438Z",
     "iopub.status.busy": "2021-12-18T10:24:15.788145Z",
     "iopub.status.idle": "2021-12-18T10:24:15.798167Z",
     "shell.execute_reply": "2021-12-18T10:24:15.797140Z",
     "shell.execute_reply.started": "2021-12-18T10:24:15.788407Z"
    },
    "papermill": {
     "duration": null,
     "end_time": null,
     "exception": null,
     "start_time": null,
     "status": "pending"
    },
    "tags": []
   },
   "outputs": [],
   "source": [
    "#Separating the features based on their data types\n",
    "cat_col = [col for col in X.columns if X[col].dtypes == 'object']\n",
    "num_col = [col for col in X.columns if col not in cat_col]"
   ]
  },
  {
   "cell_type": "code",
   "execution_count": null,
   "metadata": {
    "execution": {
     "iopub.execute_input": "2021-12-18T10:24:15.800485Z",
     "iopub.status.busy": "2021-12-18T10:24:15.799972Z",
     "iopub.status.idle": "2021-12-18T10:24:15.842504Z",
     "shell.execute_reply": "2021-12-18T10:24:15.841697Z",
     "shell.execute_reply.started": "2021-12-18T10:24:15.800401Z"
    },
    "papermill": {
     "duration": null,
     "end_time": null,
     "exception": null,
     "start_time": null,
     "status": "pending"
    },
    "tags": []
   },
   "outputs": [],
   "source": [
    "enc = LabelEncoder()\n",
    "for i in X[cat_col]:\n",
    "    #using astype(str) to avoid columns with 'float and str' to throw errors\n",
    "    X[i] = enc.fit_transform(X[i].astype(str))"
   ]
  },
  {
   "cell_type": "code",
   "execution_count": null,
   "metadata": {
    "execution": {
     "iopub.execute_input": "2021-12-18T10:24:15.844232Z",
     "iopub.status.busy": "2021-12-18T10:24:15.843747Z",
     "iopub.status.idle": "2021-12-18T10:24:15.848663Z",
     "shell.execute_reply": "2021-12-18T10:24:15.847842Z",
     "shell.execute_reply.started": "2021-12-18T10:24:15.844202Z"
    },
    "papermill": {
     "duration": null,
     "end_time": null,
     "exception": null,
     "start_time": null,
     "status": "pending"
    },
    "tags": []
   },
   "outputs": [],
   "source": [
    "#Also encoding Label for Red to be 1 and Blue to be 0 \n",
    "label = [1 if win == 'Red' else 0 for win in label]"
   ]
  },
  {
   "cell_type": "markdown",
   "metadata": {
    "papermill": {
     "duration": null,
     "end_time": null,
     "exception": null,
     "start_time": null,
     "status": "pending"
    },
    "tags": []
   },
   "source": [
    "Now that this is done, I can split the dataset into training and test set."
   ]
  },
  {
   "cell_type": "code",
   "execution_count": null,
   "metadata": {
    "execution": {
     "iopub.execute_input": "2021-12-18T10:24:15.850334Z",
     "iopub.status.busy": "2021-12-18T10:24:15.849875Z",
     "iopub.status.idle": "2021-12-18T10:24:15.875286Z",
     "shell.execute_reply": "2021-12-18T10:24:15.874522Z",
     "shell.execute_reply.started": "2021-12-18T10:24:15.850303Z"
    },
    "papermill": {
     "duration": null,
     "end_time": null,
     "exception": null,
     "start_time": null,
     "status": "pending"
    },
    "tags": []
   },
   "outputs": [],
   "source": [
    "X_train, X_valid, y_train, y_valid = train_test_split(X, label, random_state = 2, test_size = 0.3)"
   ]
  },
  {
   "cell_type": "markdown",
   "metadata": {
    "papermill": {
     "duration": null,
     "end_time": null,
     "exception": null,
     "start_time": null,
     "status": "pending"
    },
    "tags": []
   },
   "source": [
    "***Finding and filling null values***\n",
    "\n",
    "Building a baseline model would mean imputing all the null values with their 'means' (or mode/ median but I chose mean here) since this is a baseline model"
   ]
  },
  {
   "cell_type": "code",
   "execution_count": null,
   "metadata": {
    "execution": {
     "iopub.execute_input": "2021-12-18T10:24:15.877005Z",
     "iopub.status.busy": "2021-12-18T10:24:15.876522Z",
     "iopub.status.idle": "2021-12-18T10:24:15.888407Z",
     "shell.execute_reply": "2021-12-18T10:24:15.887737Z",
     "shell.execute_reply.started": "2021-12-18T10:24:15.876974Z"
    },
    "papermill": {
     "duration": null,
     "end_time": null,
     "exception": null,
     "start_time": null,
     "status": "pending"
    },
    "tags": []
   },
   "outputs": [],
   "source": [
    "X_train.isnull().sum().sort_values(ascending=False)"
   ]
  },
  {
   "cell_type": "markdown",
   "metadata": {
    "papermill": {
     "duration": null,
     "end_time": null,
     "exception": null,
     "start_time": null,
     "status": "pending"
    },
    "tags": []
   },
   "source": [
    "Since, it is baseline model, imputation would be pretty basic and simple:\n",
    "1. Impute the numerical columns with mean\n",
    "2. Fill the categorical columns with 'most_frequent'"
   ]
  },
  {
   "cell_type": "code",
   "execution_count": null,
   "metadata": {
    "execution": {
     "iopub.execute_input": "2021-12-18T10:24:15.889831Z",
     "iopub.status.busy": "2021-12-18T10:24:15.889324Z",
     "iopub.status.idle": "2021-12-18T10:24:16.242667Z",
     "shell.execute_reply": "2021-12-18T10:24:16.241832Z",
     "shell.execute_reply.started": "2021-12-18T10:24:15.889797Z"
    },
    "papermill": {
     "duration": null,
     "end_time": null,
     "exception": null,
     "start_time": null,
     "status": "pending"
    },
    "tags": []
   },
   "outputs": [],
   "source": [
    "imp = SimpleImputer(strategy='most_frequent')\n",
    "imp.fit(X_train[num_col])\n",
    "X_train[num_col] = imp.transform(X_train[num_col])\n",
    "X_valid[num_col] = imp.transform(X_valid[num_col])"
   ]
  },
  {
   "cell_type": "code",
   "execution_count": null,
   "metadata": {
    "execution": {
     "iopub.execute_input": "2021-12-18T10:24:16.244052Z",
     "iopub.status.busy": "2021-12-18T10:24:16.243663Z",
     "iopub.status.idle": "2021-12-18T10:24:16.281343Z",
     "shell.execute_reply": "2021-12-18T10:24:16.280667Z",
     "shell.execute_reply.started": "2021-12-18T10:24:16.244024Z"
    },
    "papermill": {
     "duration": null,
     "end_time": null,
     "exception": null,
     "start_time": null,
     "status": "pending"
    },
    "tags": []
   },
   "outputs": [],
   "source": [
    "cat_imp = SimpleImputer(strategy = 'most_frequent')\n",
    "cat_imp.fit(X_train[cat_col])\n",
    "X_train[cat_col] = cat_imp.transform(X_train[cat_col])\n",
    "X_valid[cat_col] = cat_imp.transform(X_valid[cat_col])"
   ]
  },
  {
   "cell_type": "code",
   "execution_count": null,
   "metadata": {
    "execution": {
     "iopub.execute_input": "2021-12-18T10:24:16.282814Z",
     "iopub.status.busy": "2021-12-18T10:24:16.282417Z",
     "iopub.status.idle": "2021-12-18T10:24:16.367214Z",
     "shell.execute_reply": "2021-12-18T10:24:16.366428Z",
     "shell.execute_reply.started": "2021-12-18T10:24:16.282775Z"
    },
    "papermill": {
     "duration": null,
     "end_time": null,
     "exception": null,
     "start_time": null,
     "status": "pending"
    },
    "tags": []
   },
   "outputs": [],
   "source": [
    "X_train.sample(10)"
   ]
  },
  {
   "cell_type": "markdown",
   "metadata": {
    "papermill": {
     "duration": null,
     "end_time": null,
     "exception": null,
     "start_time": null,
     "status": "pending"
    },
    "tags": []
   },
   "source": [
    "***Building a baseline model***"
   ]
  },
  {
   "cell_type": "code",
   "execution_count": null,
   "metadata": {
    "execution": {
     "iopub.execute_input": "2021-12-18T10:24:16.368705Z",
     "iopub.status.busy": "2021-12-18T10:24:16.368401Z",
     "iopub.status.idle": "2021-12-18T10:24:16.372293Z",
     "shell.execute_reply": "2021-12-18T10:24:16.371571Z",
     "shell.execute_reply.started": "2021-12-18T10:24:16.368678Z"
    },
    "papermill": {
     "duration": null,
     "end_time": null,
     "exception": null,
     "start_time": null,
     "status": "pending"
    },
    "tags": []
   },
   "outputs": [],
   "source": [
    "#A DummyClassifier is used to be a baseline to compare a better model's performance later on\n",
    "base_model = DummyClassifier(random_state=2)"
   ]
  },
  {
   "cell_type": "code",
   "execution_count": null,
   "metadata": {
    "execution": {
     "iopub.execute_input": "2021-12-18T10:24:16.374005Z",
     "iopub.status.busy": "2021-12-18T10:24:16.373746Z",
     "iopub.status.idle": "2021-12-18T10:24:16.387211Z",
     "shell.execute_reply": "2021-12-18T10:24:16.386150Z",
     "shell.execute_reply.started": "2021-12-18T10:24:16.373980Z"
    },
    "papermill": {
     "duration": null,
     "end_time": null,
     "exception": null,
     "start_time": null,
     "status": "pending"
    },
    "tags": []
   },
   "outputs": [],
   "source": [
    "base_model.fit(X_train,y_train)"
   ]
  },
  {
   "cell_type": "code",
   "execution_count": null,
   "metadata": {
    "execution": {
     "iopub.execute_input": "2021-12-18T10:24:16.388828Z",
     "iopub.status.busy": "2021-12-18T10:24:16.388398Z",
     "iopub.status.idle": "2021-12-18T10:24:16.398201Z",
     "shell.execute_reply": "2021-12-18T10:24:16.397191Z",
     "shell.execute_reply.started": "2021-12-18T10:24:16.388795Z"
    },
    "papermill": {
     "duration": null,
     "end_time": null,
     "exception": null,
     "start_time": null,
     "status": "pending"
    },
    "tags": []
   },
   "outputs": [],
   "source": [
    "preds = base_model.predict(X_valid)\n",
    "accuracy_score(y_valid, preds)"
   ]
  },
  {
   "cell_type": "markdown",
   "metadata": {
    "papermill": {
     "duration": null,
     "end_time": null,
     "exception": null,
     "start_time": null,
     "status": "pending"
    },
    "tags": []
   },
   "source": [
    "49% is the accuracy for this model/ baseline accuracy"
   ]
  },
  {
   "cell_type": "markdown",
   "metadata": {
    "papermill": {
     "duration": null,
     "end_time": null,
     "exception": null,
     "start_time": null,
     "status": "pending"
    },
    "tags": []
   },
   "source": [
    "Now that the baseline model is built let's focus on building an actual model for our prediction"
   ]
  },
  {
   "cell_type": "markdown",
   "metadata": {
    "papermill": {
     "duration": null,
     "end_time": null,
     "exception": null,
     "start_time": null,
     "status": "pending"
    },
    "tags": []
   },
   "source": [
    "# 2. Data Visualization\n",
    "Feature visualization on ufc_master_ds to gain some insight into our data "
   ]
  },
  {
   "cell_type": "code",
   "execution_count": null,
   "metadata": {
    "execution": {
     "iopub.execute_input": "2021-12-18T10:24:16.399658Z",
     "iopub.status.busy": "2021-12-18T10:24:16.399295Z",
     "iopub.status.idle": "2021-12-18T10:24:16.475474Z",
     "shell.execute_reply": "2021-12-18T10:24:16.474822Z",
     "shell.execute_reply.started": "2021-12-18T10:24:16.399606Z"
    },
    "papermill": {
     "duration": null,
     "end_time": null,
     "exception": null,
     "start_time": null,
     "status": "pending"
    },
    "tags": []
   },
   "outputs": [],
   "source": [
    "ufc_master_ds.head()"
   ]
  },
  {
   "cell_type": "code",
   "execution_count": null,
   "metadata": {
    "execution": {
     "iopub.execute_input": "2021-12-18T10:24:16.477075Z",
     "iopub.status.busy": "2021-12-18T10:24:16.476534Z",
     "iopub.status.idle": "2021-12-18T10:24:16.483792Z",
     "shell.execute_reply": "2021-12-18T10:24:16.483137Z",
     "shell.execute_reply.started": "2021-12-18T10:24:16.477045Z"
    },
    "papermill": {
     "duration": null,
     "end_time": null,
     "exception": null,
     "start_time": null,
     "status": "pending"
    },
    "tags": []
   },
   "outputs": [],
   "source": [
    "#Encoding label so it is easier to find correlation\n",
    "ufc_master_ds['Winner'] = [1 if winner == 'Red' else 0 for winner in ufc_master_ds.Winner]"
   ]
  },
  {
   "cell_type": "markdown",
   "metadata": {
    "papermill": {
     "duration": null,
     "end_time": null,
     "exception": null,
     "start_time": null,
     "status": "pending"
    },
    "tags": []
   },
   "source": [
    "Now, let's see the correlation between variables and target and then select the appropriate variable to visualize"
   ]
  },
  {
   "cell_type": "code",
   "execution_count": null,
   "metadata": {
    "execution": {
     "iopub.execute_input": "2021-12-18T10:24:16.484956Z",
     "iopub.status.busy": "2021-12-18T10:24:16.484612Z",
     "iopub.status.idle": "2021-12-18T10:24:16.556922Z",
     "shell.execute_reply": "2021-12-18T10:24:16.555907Z",
     "shell.execute_reply.started": "2021-12-18T10:24:16.484930Z"
    },
    "papermill": {
     "duration": null,
     "end_time": null,
     "exception": null,
     "start_time": null,
     "status": "pending"
    },
    "tags": []
   },
   "outputs": [],
   "source": [
    "num_corr_col = [col for col in ufc_master_ds.columns if ufc_master_ds[col].dtype == 'int64' or ufc_master_ds[col].dtype == 'float64']\n",
    "corr_dict = {}\n",
    "#Getting absolute values of correlation since we would need to inspect negative correlation too\n",
    "for col in num_corr_col:\n",
    "    corr_dict[col] = abs(ufc_master_ds[col].corr(ufc_master_ds['Winner']))"
   ]
  },
  {
   "cell_type": "code",
   "execution_count": null,
   "metadata": {
    "execution": {
     "iopub.execute_input": "2021-12-18T10:24:16.558558Z",
     "iopub.status.busy": "2021-12-18T10:24:16.558229Z",
     "iopub.status.idle": "2021-12-18T10:24:16.579065Z",
     "shell.execute_reply": "2021-12-18T10:24:16.578333Z",
     "shell.execute_reply.started": "2021-12-18T10:24:16.558526Z"
    },
    "papermill": {
     "duration": null,
     "end_time": null,
     "exception": null,
     "start_time": null,
     "status": "pending"
    },
    "tags": []
   },
   "outputs": [],
   "source": [
    "for w in sorted(corr_dict, key=corr_dict.get):\n",
    "    print(w, corr_dict[w])"
   ]
  },
  {
   "cell_type": "markdown",
   "metadata": {
    "papermill": {
     "duration": null,
     "end_time": null,
     "exception": null,
     "start_time": null,
     "status": "pending"
    },
    "tags": []
   },
   "source": [
    "The biggest contributors i.e. columns with a greater than 0.25 correlation (in increasing order of importance) are:\n",
    "* B_td_landed_bout,\n",
    "* R_td_pct_bout,\n",
    "* B_sig_str_landed_bout,\n",
    "* B_tot_str_landed_bout,\n",
    "* R_tot_str_landed_bout,\n",
    "* R_pass_bout,\n",
    "* R_kd_bout,\n",
    "* B_sig_str_pct_bout,\n",
    "* B_pass_bout,\n",
    "* B_ev,\n",
    "* R_ev,\n",
    "* R_odds,\n",
    "* B_odds,\n",
    "* R_sig_str_pct_bout,\n",
    "* B_kd_bout"
   ]
  },
  {
   "cell_type": "markdown",
   "metadata": {
    "papermill": {
     "duration": null,
     "end_time": null,
     "exception": null,
     "start_time": null,
     "status": "pending"
    },
    "tags": []
   },
   "source": [
    "Since none of the bout variables have any information on them, I'll have to do some inspection and visualization and see if I can find out the meaning of these."
   ]
  },
  {
   "cell_type": "code",
   "execution_count": null,
   "metadata": {
    "execution": {
     "iopub.execute_input": "2021-12-18T10:24:16.580511Z",
     "iopub.status.busy": "2021-12-18T10:24:16.580206Z",
     "iopub.status.idle": "2021-12-18T10:24:16.702375Z",
     "shell.execute_reply": "2021-12-18T10:24:16.699789Z",
     "shell.execute_reply.started": "2021-12-18T10:24:16.580473Z"
    },
    "papermill": {
     "duration": null,
     "end_time": null,
     "exception": null,
     "start_time": null,
     "status": "pending"
    },
    "tags": []
   },
   "outputs": [],
   "source": [
    "ufc_master_ds['B_kd_bout'].unique()"
   ]
  },
  {
   "cell_type": "code",
   "execution_count": null,
   "metadata": {
    "execution": {
     "iopub.execute_input": "2021-12-18T10:24:45.226947Z",
     "iopub.status.busy": "2021-12-18T10:24:45.226574Z",
     "iopub.status.idle": "2021-12-18T10:24:45.265602Z",
     "shell.execute_reply": "2021-12-18T10:24:45.263825Z",
     "shell.execute_reply.started": "2021-12-18T10:24:45.226908Z"
    },
    "papermill": {
     "duration": null,
     "end_time": null,
     "exception": null,
     "start_time": null,
     "status": "pending"
    },
    "tags": []
   },
   "outputs": [],
   "source": [
    "#Getting null values percentage\n",
    "(ufc_master_ds['B_kd_bout'].isnull().sum()/ufc_master_ds.shape[0])*100"
   ]
  },
  {
   "cell_type": "markdown",
   "metadata": {
    "papermill": {
     "duration": null,
     "end_time": null,
     "exception": null,
     "start_time": null,
     "status": "pending"
    },
    "tags": []
   },
   "source": [
    "More than 38% of these values are null"
   ]
  },
  {
   "cell_type": "code",
   "execution_count": null,
   "metadata": {
    "execution": {
     "iopub.status.busy": "2021-12-18T10:24:16.705184Z",
     "iopub.status.idle": "2021-12-18T10:24:16.705615Z"
    },
    "papermill": {
     "duration": null,
     "end_time": null,
     "exception": null,
     "start_time": null,
     "status": "pending"
    },
    "tags": []
   },
   "outputs": [],
   "source": [
    "#For visualization purposes\n",
    "ufc_master_ds['Winner'] = ['Red' if winner == 1 else 'Blue' for winner in ufc_master_ds.Winner]"
   ]
  },
  {
   "cell_type": "markdown",
   "metadata": {
    "papermill": {
     "duration": null,
     "end_time": null,
     "exception": null,
     "start_time": null,
     "status": "pending"
    },
    "tags": []
   },
   "source": [
    "Let's see the countplot"
   ]
  },
  {
   "cell_type": "code",
   "execution_count": null,
   "metadata": {
    "execution": {
     "iopub.status.busy": "2021-12-18T10:24:16.706975Z",
     "iopub.status.idle": "2021-12-18T10:24:16.707407Z"
    },
    "papermill": {
     "duration": null,
     "end_time": null,
     "exception": null,
     "start_time": null,
     "status": "pending"
    },
    "tags": []
   },
   "outputs": [],
   "source": [
    "sns.countplot(x=ufc_master_ds['B_kd_bout'], hue = ufc_master_ds['Winner']);"
   ]
  },
  {
   "cell_type": "markdown",
   "metadata": {
    "papermill": {
     "duration": null,
     "end_time": null,
     "exception": null,
     "start_time": null,
     "status": "pending"
    },
    "tags": []
   },
   "source": [
    "A majority of these values belong to 0, then 1,2,3 with a rare appearance in 4. All belong to float64 type. Also, these are bout related."
   ]
  },
  {
   "cell_type": "markdown",
   "metadata": {
    "papermill": {
     "duration": null,
     "end_time": null,
     "exception": null,
     "start_time": null,
     "status": "pending"
    },
    "tags": []
   },
   "source": [
    "According to the official UFC site, 'kd' refers to knockdown, so these could be knockdowns dealt to/by the blue player"
   ]
  },
  {
   "cell_type": "code",
   "execution_count": null,
   "metadata": {
    "execution": {
     "iopub.status.busy": "2021-12-18T10:24:16.708551Z",
     "iopub.status.idle": "2021-12-18T10:24:16.709012Z"
    },
    "papermill": {
     "duration": null,
     "end_time": null,
     "exception": null,
     "start_time": null,
     "status": "pending"
    },
    "tags": []
   },
   "outputs": [],
   "source": [
    "#Analysing \"_odds\" variables\n",
    "sns.scatterplot(x=\"B_odds\", y=\"R_odds\", hue=\"Winner\", data = ufc_master_ds);"
   ]
  },
  {
   "cell_type": "markdown",
   "metadata": {
    "papermill": {
     "duration": null,
     "end_time": null,
     "exception": null,
     "start_time": null,
     "status": "pending"
    },
    "tags": []
   },
   "source": [
    "As B_odds increase, there are more \"Red\" winners. Same for blue, so it seems that, with the exception of a few outliers, all of the winner are the ones that are bet against. These seem like odds to lose rather than odds to win"
   ]
  },
  {
   "cell_type": "code",
   "execution_count": null,
   "metadata": {
    "execution": {
     "iopub.status.busy": "2021-12-18T10:24:16.709988Z",
     "iopub.status.idle": "2021-12-18T10:24:16.710431Z"
    },
    "papermill": {
     "duration": null,
     "end_time": null,
     "exception": null,
     "start_time": null,
     "status": "pending"
    },
    "tags": []
   },
   "outputs": [],
   "source": [
    "#Just to be sure\n",
    "ufc_master_ds[\"Winner\"].loc[ufc_master_ds[\"B_odds\"]>1].value_counts()"
   ]
  },
  {
   "cell_type": "markdown",
   "metadata": {
    "papermill": {
     "duration": null,
     "end_time": null,
     "exception": null,
     "start_time": null,
     "status": "pending"
    },
    "tags": []
   },
   "source": [
    "These are the winner distributions where the odds of Blue player winning are greater than 0, but the winners are clearly Red players.\n",
    "Same would be applicable for B_odds"
   ]
  },
  {
   "cell_type": "code",
   "execution_count": null,
   "metadata": {
    "execution": {
     "iopub.status.busy": "2021-12-18T10:24:16.711716Z",
     "iopub.status.idle": "2021-12-18T10:24:16.712130Z"
    },
    "papermill": {
     "duration": null,
     "end_time": null,
     "exception": null,
     "start_time": null,
     "status": "pending"
    },
    "tags": []
   },
   "outputs": [],
   "source": [
    "#Null values in _sig_str_pct_bout variables\n",
    "[(ufc_master_ds[col].isnull().sum()/ufc_master_ds.shape[0])*100 for col in ['R_sig_str_pct_bout','B_sig_str_pct_bout']]\n",
    "#Same number of missing values as _kd_bout variables"
   ]
  },
  {
   "cell_type": "code",
   "execution_count": null,
   "metadata": {
    "execution": {
     "iopub.status.busy": "2021-12-18T10:24:16.713106Z",
     "iopub.status.idle": "2021-12-18T10:24:16.713536Z"
    },
    "papermill": {
     "duration": null,
     "end_time": null,
     "exception": null,
     "start_time": null,
     "status": "pending"
    },
    "tags": []
   },
   "outputs": [],
   "source": [
    "sns.scatterplot(x='R_sig_str_pct_bout',y='B_sig_str_pct_bout',hue = 'Winner', data=ufc_master_ds);"
   ]
  },
  {
   "cell_type": "markdown",
   "metadata": {
    "papermill": {
     "duration": null,
     "end_time": null,
     "exception": null,
     "start_time": null,
     "status": "pending"
    },
    "tags": []
   },
   "source": [
    "There does seem to be somewhat of a linear correlation in significant striking accuracy and winner of the bout"
   ]
  },
  {
   "cell_type": "code",
   "execution_count": null,
   "metadata": {
    "execution": {
     "iopub.status.busy": "2021-12-18T10:24:16.714765Z",
     "iopub.status.idle": "2021-12-18T10:24:16.715179Z"
    },
    "papermill": {
     "duration": null,
     "end_time": null,
     "exception": null,
     "start_time": null,
     "status": "pending"
    },
    "tags": []
   },
   "outputs": [],
   "source": [
    "#Lets inspect _ev variables\n",
    "sns.scatterplot(x='B_ev', y='R_ev',hue = 'Winner', data=ufc_master_ds);"
   ]
  },
  {
   "cell_type": "markdown",
   "metadata": {
    "papermill": {
     "duration": null,
     "end_time": null,
     "exception": null,
     "start_time": null,
     "status": "pending"
    },
    "tags": []
   },
   "source": [
    "When B_ev is increasing in value, the winners are Red and when R_ev is increasing, the winners are Blue."
   ]
  },
  {
   "cell_type": "code",
   "execution_count": null,
   "metadata": {
    "execution": {
     "iopub.status.busy": "2021-12-18T10:24:16.716490Z",
     "iopub.status.idle": "2021-12-18T10:24:16.716944Z"
    },
    "papermill": {
     "duration": null,
     "end_time": null,
     "exception": null,
     "start_time": null,
     "status": "pending"
    },
    "tags": []
   },
   "outputs": [],
   "source": [
    "fig, ax = plt.subplots(1,2, figsize=(15,7))\n",
    "sns.scatterplot(x='B_ev', y='R_odds',hue = 'Winner', data=ufc_master_ds, ax=ax[0]);\n",
    "sns.scatterplot(x='B_ev', y='B_odds',hue = 'Winner', data=ufc_master_ds, ax=ax[1]);\n",
    "fig.show()"
   ]
  },
  {
   "cell_type": "markdown",
   "metadata": {
    "papermill": {
     "duration": null,
     "end_time": null,
     "exception": null,
     "start_time": null,
     "status": "pending"
    },
    "tags": []
   },
   "source": [
    "As the chances of Red winning increases (i.e. R_odds decreases), the profit i.e. B_ev increases.\n",
    "This indicates that B_ev is the profit on Red rather than blue and the other way round would be the same for R_ev"
   ]
  },
  {
   "cell_type": "markdown",
   "metadata": {
    "papermill": {
     "duration": null,
     "end_time": null,
     "exception": null,
     "start_time": null,
     "status": "pending"
    },
    "tags": []
   },
   "source": [
    "The _bout features would have more or less similar relationship with one another"
   ]
  },
  {
   "cell_type": "markdown",
   "metadata": {
    "papermill": {
     "duration": null,
     "end_time": null,
     "exception": null,
     "start_time": null,
     "status": "pending"
    },
    "tags": []
   },
   "source": [
    "Let's move to _Stance variables"
   ]
  },
  {
   "cell_type": "code",
   "execution_count": null,
   "metadata": {
    "execution": {
     "iopub.status.busy": "2021-12-18T10:24:16.718390Z",
     "iopub.status.idle": "2021-12-18T10:24:16.718853Z"
    },
    "papermill": {
     "duration": null,
     "end_time": null,
     "exception": null,
     "start_time": null,
     "status": "pending"
    },
    "tags": []
   },
   "outputs": [],
   "source": [
    "fig, ax = plt.subplots(1,2, figsize=(15,7))\n",
    "sns.countplot(ufc_master_ds['Winner'], hue = ufc_master_ds['R_Stance'], ax=ax[0])\n",
    "sns.countplot(ufc_master_ds['Winner'], hue = ufc_master_ds['B_Stance'], ax=ax[1])\n",
    "ax[0].title.set_text('Stances of Red Players')\n",
    "ax[1].title.set_text('Stances of Blue Players')\n",
    "fig.show()"
   ]
  },
  {
   "cell_type": "markdown",
   "metadata": {
    "papermill": {
     "duration": null,
     "end_time": null,
     "exception": null,
     "start_time": null,
     "status": "pending"
    },
    "tags": []
   },
   "source": [
    "Orthodox is the superior stance followed by Southpaw and then Switch"
   ]
  },
  {
   "cell_type": "markdown",
   "metadata": {
    "papermill": {
     "duration": null,
     "end_time": null,
     "exception": null,
     "start_time": null,
     "status": "pending"
    },
    "tags": []
   },
   "source": [
    "# 3. Feature Engineering, Filling null values and Final Model"
   ]
  },
  {
   "cell_type": "code",
   "execution_count": null,
   "metadata": {
    "execution": {
     "iopub.status.busy": "2021-12-18T10:24:16.720172Z",
     "iopub.status.idle": "2021-12-18T10:24:16.720601Z"
    },
    "papermill": {
     "duration": null,
     "end_time": null,
     "exception": null,
     "start_time": null,
     "status": "pending"
    },
    "tags": []
   },
   "outputs": [],
   "source": [
    "ufc_master_ds.head()"
   ]
  },
  {
   "cell_type": "markdown",
   "metadata": {
    "papermill": {
     "duration": null,
     "end_time": null,
     "exception": null,
     "start_time": null,
     "status": "pending"
    },
    "tags": []
   },
   "source": [
    "Considering the number of variables, it would make sense to combine similar variables to increase their correlation and reduce complexity by limiting the input features"
   ]
  },
  {
   "cell_type": "markdown",
   "metadata": {
    "papermill": {
     "duration": null,
     "end_time": null,
     "exception": null,
     "start_time": null,
     "status": "pending"
    },
    "tags": []
   },
   "source": [
    "Some variables are already engineered. They have combined features, so I'll just be doing those that haven't yet been touched.\n",
    "These are the already engineered features:\n",
    "1. lose_streak_dif: (Blue lose streak) - (Red lose streak) \n",
    "2. winstreakdif: (Blue win streak) - (Red win streak)\n",
    "3. longest_win_streak_dif: (Blue longest win streak) - (Red longest win streak)\n",
    "4. win_dif: (Blue wins) - (Red wins)\n",
    "5. loss_dif: (Blue losses) - (Red losses)\n",
    "6. total_round_dif: (Blue total rounds fought) - (Red total rounds fought)\n",
    "7. total_title_bout_dif: (Blue number of title fights) - (Red number of title fights)\n",
    "8. ko_dif: (Blue wins by KO/TKO) - (Red wins by KO/TKO)\n",
    "9. sub_dif: (Blue wins by submission) - (Red wins by submission)\n",
    "10. height_dif: (Blue height) - (Red height) in cms\n",
    "11. reach_dif: (Blue reach) - (Red reach) in cms\n",
    "12. age_dif: (Blue age) - (Red age)\n",
    "13. sig_str_dif: (Blue sig strikes per minute) - (Red sig strikes per minute)\n",
    "14. avg_sub_att_dif: (Blue submission attempts) - (Red submission attempts)\n",
    "15. avg_td_dif: (Blue TD attempts) - (Red TD attempts)"
   ]
  },
  {
   "cell_type": "code",
   "execution_count": null,
   "metadata": {
    "execution": {
     "iopub.status.busy": "2021-12-18T10:24:16.721797Z",
     "iopub.status.idle": "2021-12-18T10:24:16.722217Z"
    },
    "papermill": {
     "duration": null,
     "end_time": null,
     "exception": null,
     "start_time": null,
     "status": "pending"
    },
    "tags": []
   },
   "outputs": [],
   "source": [
    "ufc_master_ds['draw_diff'] = (ufc_master_ds['B_draw']-ufc_master_ds['R_draw'])\n",
    "ufc_master_ds['avg_sig_str_pct_diff'] = (ufc_master_ds['B_avg_SIG_STR_pct']-ufc_master_ds['R_avg_SIG_STR_pct'])\n",
    "ufc_master_ds['avg_TD_pct_diff'] = (ufc_master_ds['B_avg_TD_pct']-ufc_master_ds['B_avg_TD_pct'])\n",
    "ufc_master_ds['win_by_Decision_Majority_diff'] = (ufc_master_ds['B_win_by_Decision_Majority']-ufc_master_ds['R_win_by_Decision_Majority'])\n",
    "ufc_master_ds['win_by_Decision_Split_diff'] = (ufc_master_ds['B_win_by_Decision_Split']-ufc_master_ds['R_win_by_Decision_Split'])\n",
    "ufc_master_ds['win_by_Decision_Unanimous_diff'] = (ufc_master_ds['B_win_by_Decision_Unanimous']-ufc_master_ds['R_win_by_Decision_Unanimous'])\n",
    "ufc_master_ds['win_by_TKO_Doctor_Stoppage_diff'] = (ufc_master_ds['B_win_by_TKO_Doctor_Stoppage']-ufc_master_ds['R_win_by_TKO_Doctor_Stoppage'])"
   ]
  },
  {
   "cell_type": "code",
   "execution_count": null,
   "metadata": {
    "execution": {
     "iopub.status.busy": "2021-12-18T10:24:16.723538Z",
     "iopub.status.idle": "2021-12-18T10:24:16.724026Z"
    },
    "papermill": {
     "duration": null,
     "end_time": null,
     "exception": null,
     "start_time": null,
     "status": "pending"
    },
    "tags": []
   },
   "outputs": [],
   "source": [
    "ufc_master_ds['odds_diff'] = (ufc_master_ds['B_odds']-ufc_master_ds['R_odds'])\n",
    "ufc_master_ds['ev_diff'] = (ufc_master_ds['B_ev']-ufc_master_ds['R_ev'])\n",
    "\n",
    "ufc_master_ds['kd_bout_diff']=(ufc_master_ds['B_kd_bout']-ufc_master_ds['R_kd_bout'])\n",
    "ufc_master_ds['sig_str_landed_bout_diff']=(ufc_master_ds['B_sig_str_landed_bout']-ufc_master_ds['R_sig_str_landed_bout'])\n",
    "ufc_master_ds['sig_str_attempted_bout_diff']=(ufc_master_ds['B_sig_str_attempted_bout']-ufc_master_ds['R_sig_str_attempted_bout'])\n",
    "ufc_master_ds['sig_str_attempted_bout_diff']=(ufc_master_ds['B_sig_str_attempted_bout']-ufc_master_ds['R_sig_str_attempted_bout'])\n",
    "ufc_master_ds['sig_str_pct_bout_diff']=(ufc_master_ds['B_sig_str_pct_bout']-ufc_master_ds['R_sig_str_pct_bout'])\n",
    "ufc_master_ds['tot_str_landed_bout_diff']=(ufc_master_ds['B_tot_str_landed_bout']-ufc_master_ds['R_tot_str_landed_bout'])\n",
    "ufc_master_ds['tot_str_attempted_bout_diff']=(ufc_master_ds['B_tot_str_attempted_bout']-ufc_master_ds['R_tot_str_attempted_bout'])\n",
    "ufc_master_ds['td_landed_bout_diff']=(ufc_master_ds['B_td_landed_bout']-ufc_master_ds['R_td_landed_bout'])\n",
    "ufc_master_ds['td_attempted_bout_diff']=(ufc_master_ds['B_td_attempted_bout']-ufc_master_ds['R_td_attempted_bout'])\n",
    "ufc_master_ds['td_pct_bout_diff']=(ufc_master_ds['B_td_pct_bout']-ufc_master_ds['R_td_pct_bout'])\n",
    "ufc_master_ds['td_pct_bout_diff']=(ufc_master_ds['B_td_pct_bout']-ufc_master_ds['R_td_pct_bout'])\n",
    "ufc_master_ds['sub_attempts_bout_diff']=(ufc_master_ds['B_sub_attempts_bout']-ufc_master_ds['R_sub_attempts_bout'])\n",
    "ufc_master_ds['pass_bout_diff']=(ufc_master_ds['B_pass_bout']-ufc_master_ds['R_pass_bout'])\n",
    "ufc_master_ds['rev_bout_diff']=(ufc_master_ds['B_rev_bout']-ufc_master_ds['R_rev_bout'])"
   ]
  },
  {
   "cell_type": "markdown",
   "metadata": {
    "papermill": {
     "duration": null,
     "end_time": null,
     "exception": null,
     "start_time": null,
     "status": "pending"
    },
    "tags": []
   },
   "source": [
    "After extracting the necessary information from these variables, there's no more need for them. So, I'll just drop them"
   ]
  },
  {
   "cell_type": "code",
   "execution_count": null,
   "metadata": {
    "execution": {
     "iopub.status.busy": "2021-12-18T10:24:16.725214Z",
     "iopub.status.idle": "2021-12-18T10:24:16.725650Z"
    },
    "papermill": {
     "duration": null,
     "end_time": null,
     "exception": null,
     "start_time": null,
     "status": "pending"
    },
    "tags": []
   },
   "outputs": [],
   "source": [
    "#Dropping variables\n",
    "var_drop = [\n",
    "'B_odds',\n",
    "'R_odds',\n",
    "'B_ev',\n",
    "'R_ev',\n",
    "'R_kd_bout',\n",
    "'B_kd_bout',\n",
    "'R_sig_str_landed_bout',\n",
    "'B_sig_str_landed_bout',\n",
    "'R_sig_str_attempted_bout',\n",
    "'B_sig_str_attempted_bout',\n",
    "'R_sig_str_pct_bout',\n",
    "'B_sig_str_pct_bout',\n",
    "'R_tot_str_landed_bout',\n",
    "'B_tot_str_landed_bout',\n",
    "'R_tot_str_attempted_bout',\n",
    "'B_tot_str_attempted_bout',\n",
    "'R_td_landed_bout',\n",
    "'B_td_landed_bout',\n",
    "'R_td_attempted_bout',\n",
    "'B_td_attempted_bout',\n",
    "'R_td_pct_bout',\n",
    "'B_td_pct_bout',\n",
    "'R_sub_attempts_bout',\n",
    "'B_sub_attempts_bout',\n",
    "'R_pass_bout',\n",
    "'B_pass_bout',\n",
    "'R_rev_bout',\n",
    "'B_rev_bout',\n",
    "'B_current_lose_streak', 'R_current_lose_streak',\n",
    "'B_current_win_streak', 'R_current_win_streak',\n",
    "'B_longest_win_streak', 'R_longest_win_streak',\n",
    "'B_wins', 'R_wins',\n",
    "'B_losses', 'R_losses',\n",
    "'B_total_rounds_fought', 'R_total_rounds_fought',\n",
    "'B_total_title_bouts', 'R_total_title_bouts',\n",
    "'B_win_by_KO/TKO', 'R_win_by_KO/TKO',\n",
    "'B_win_by_Submission', 'R_win_by_Submission',\n",
    "'B_Height_cms', 'R_Height_cms',\n",
    "'B_Reach_cms', 'R_Reach_cms',\n",
    "'B_age', 'R_age',\n",
    "'B_avg_SIG_STR_landed', 'R_avg_SIG_STR_landed',\n",
    "'B_avg_SUB_ATT', 'R_avg_SUB_ATT',\n",
    "'B_avg_TD_landed', 'R_avg_TD_landed',\n",
    "'B_draw','B_avg_SIG_STR_pct','B_avg_TD_pct','B_win_by_Decision_Majority','B_win_by_Decision_Split','B_win_by_Decision_Unanimous','B_win_by_TKO_Doctor_Stoppage',\n",
    "'R_draw','R_avg_SIG_STR_pct','R_avg_TD_pct','R_win_by_Decision_Majority','R_win_by_Decision_Split','R_win_by_Decision_Unanimous','R_win_by_TKO_Doctor_Stoppage']\n",
    "ufc_master_ds.drop(var_drop, axis=1, inplace = True)"
   ]
  },
  {
   "cell_type": "markdown",
   "metadata": {
    "papermill": {
     "duration": null,
     "end_time": null,
     "exception": null,
     "start_time": null,
     "status": "pending"
    },
    "tags": []
   },
   "source": [
    "Next step will be dropping the variables that are common to both the fighters(like date, country, etc.) and thus provide no advantage to anyone"
   ]
  },
  {
   "cell_type": "code",
   "execution_count": null,
   "metadata": {
    "execution": {
     "iopub.status.busy": "2021-12-18T10:24:16.726734Z",
     "iopub.status.idle": "2021-12-18T10:24:16.727163Z"
    },
    "papermill": {
     "duration": null,
     "end_time": null,
     "exception": null,
     "start_time": null,
     "status": "pending"
    },
    "tags": []
   },
   "outputs": [],
   "source": [
    "comm_drop = [\n",
    "'date','location','country','weight_class','gender','no_of_rounds','empty_arena','constant_1','finish','finish_details','finish_round','finish_round_time','total_fight_time_secs','B_Weight_lbs','R_Weight_lbs'\n",
    "]\n",
    "ufc_master_ds.drop(comm_drop, axis=1, inplace = True)"
   ]
  },
  {
   "cell_type": "markdown",
   "metadata": {
    "papermill": {
     "duration": null,
     "end_time": null,
     "exception": null,
     "start_time": null,
     "status": "pending"
    },
    "tags": []
   },
   "source": [
    "Before moving on to the rank variables, the _Stance variables need some encoding. I'll encode them as I visualized them above.i.e. Orthodox is superior so it will be 4, Southpaw after that will be 3, Switch, 2, and Open Stance 1"
   ]
  },
  {
   "cell_type": "code",
   "execution_count": null,
   "metadata": {
    "execution": {
     "iopub.status.busy": "2021-12-18T10:24:16.728198Z",
     "iopub.status.idle": "2021-12-18T10:24:16.728629Z"
    },
    "papermill": {
     "duration": null,
     "end_time": null,
     "exception": null,
     "start_time": null,
     "status": "pending"
    },
    "tags": []
   },
   "outputs": [],
   "source": [
    "ufc_master_ds.B_Stance.unique()"
   ]
  },
  {
   "cell_type": "code",
   "execution_count": null,
   "metadata": {
    "execution": {
     "iopub.status.busy": "2021-12-18T10:24:16.729749Z",
     "iopub.status.idle": "2021-12-18T10:24:16.730174Z"
    },
    "papermill": {
     "duration": null,
     "end_time": null,
     "exception": null,
     "start_time": null,
     "status": "pending"
    },
    "tags": []
   },
   "outputs": [],
   "source": [
    "#It has one spelling mistake\n",
    "ufc_master_ds['B_Stance'].loc[ufc_master_ds['B_Stance']=='Switch '] = 'Switch'\n",
    "#R_Stance doesn't have this error, so we're cool"
   ]
  },
  {
   "cell_type": "code",
   "execution_count": null,
   "metadata": {
    "execution": {
     "iopub.status.busy": "2021-12-18T10:24:16.731327Z",
     "iopub.status.idle": "2021-12-18T10:24:16.731796Z"
    },
    "papermill": {
     "duration": null,
     "end_time": null,
     "exception": null,
     "start_time": null,
     "status": "pending"
    },
    "tags": []
   },
   "outputs": [],
   "source": [
    "stance = ['B_Stance', 'R_Stance']"
   ]
  },
  {
   "cell_type": "code",
   "execution_count": null,
   "metadata": {
    "execution": {
     "iopub.status.busy": "2021-12-18T10:24:16.733112Z",
     "iopub.status.idle": "2021-12-18T10:24:16.733535Z"
    },
    "papermill": {
     "duration": null,
     "end_time": null,
     "exception": null,
     "start_time": null,
     "status": "pending"
    },
    "tags": []
   },
   "outputs": [],
   "source": [
    "for x in stance:\n",
    "    ufc_master_ds[x] = [4 if st == 'Orthodox'\n",
    "                           else 3 if st == 'Southpaw'\n",
    "                           else 2 if st == 'Switch'\n",
    "                           else 1 for st in ufc_master_ds[x]]\n",
    "#using -1 and 1 for both red and blue so there is no misunderstanding that one variable is better than the other    \n",
    "ufc_master_ds['better_rank'] = [-1 if rank == 'Red'\n",
    "                               else 1 if rank == 'Blue'\n",
    "                               else 0 for rank in ufc_master_ds['better_rank']]\n",
    "\n",
    "ufc_master_ds['title_bout'] = [1 if tb==True else 0 for tb in ufc_master_ds['title_bout']]"
   ]
  },
  {
   "cell_type": "code",
   "execution_count": null,
   "metadata": {
    "execution": {
     "iopub.status.busy": "2021-12-18T10:24:16.734665Z",
     "iopub.status.idle": "2021-12-18T10:24:16.735095Z"
    },
    "papermill": {
     "duration": null,
     "end_time": null,
     "exception": null,
     "start_time": null,
     "status": "pending"
    },
    "tags": []
   },
   "outputs": [],
   "source": [
    "ufc_master_ds['Stance_diff'] = (ufc_master_ds['B_Stance'] - ufc_master_ds['R_Stance'])\n",
    "ufc_master_ds.drop(stance, axis = 1, inplace = True)"
   ]
  },
  {
   "cell_type": "code",
   "execution_count": null,
   "metadata": {
    "execution": {
     "iopub.status.busy": "2021-12-18T10:24:16.736441Z",
     "iopub.status.idle": "2021-12-18T10:24:16.736885Z"
    },
    "papermill": {
     "duration": null,
     "end_time": null,
     "exception": null,
     "start_time": null,
     "status": "pending"
    },
    "tags": []
   },
   "outputs": [],
   "source": [
    "ufc_master_ds.head()"
   ]
  },
  {
   "cell_type": "code",
   "execution_count": null,
   "metadata": {
    "execution": {
     "iopub.status.busy": "2021-12-18T10:24:16.738112Z",
     "iopub.status.idle": "2021-12-18T10:24:16.738543Z"
    },
    "papermill": {
     "duration": null,
     "end_time": null,
     "exception": null,
     "start_time": null,
     "status": "pending"
    },
    "tags": []
   },
   "outputs": [],
   "source": [
    "#Encoding label so it is easier to find correlation\n",
    "ufc_master_ds['Winner'] = [1 if winner == 'Red' else 0 for winner in ufc_master_ds.Winner]"
   ]
  },
  {
   "cell_type": "code",
   "execution_count": null,
   "metadata": {
    "execution": {
     "iopub.status.busy": "2021-12-18T10:24:16.739746Z",
     "iopub.status.idle": "2021-12-18T10:24:16.740167Z"
    },
    "papermill": {
     "duration": null,
     "end_time": null,
     "exception": null,
     "start_time": null,
     "status": "pending"
    },
    "tags": []
   },
   "outputs": [],
   "source": [
    "ufc_master_ds.loc[:,'B_match_weightclass_rank':'better_rank'].isnull().sum()"
   ]
  },
  {
   "cell_type": "markdown",
   "metadata": {
    "papermill": {
     "duration": null,
     "end_time": null,
     "exception": null,
     "start_time": null,
     "status": "pending"
    },
    "tags": []
   },
   "source": [
    "Almost all of _rank variables except better_rank are empty. I'll keep it and remove the rest"
   ]
  },
  {
   "cell_type": "code",
   "execution_count": null,
   "metadata": {
    "execution": {
     "iopub.status.busy": "2021-12-18T10:24:16.741311Z",
     "iopub.status.idle": "2021-12-18T10:24:16.741777Z"
    },
    "papermill": {
     "duration": null,
     "end_time": null,
     "exception": null,
     "start_time": null,
     "status": "pending"
    },
    "tags": []
   },
   "outputs": [],
   "source": [
    "ufc_master_ds.drop(ufc_master_ds.loc[:,'B_match_weightclass_rank':'B_Pound-for-Pound_rank'], axis=1, inplace = True)"
   ]
  },
  {
   "cell_type": "code",
   "execution_count": null,
   "metadata": {
    "execution": {
     "iopub.status.busy": "2021-12-18T10:24:16.743016Z",
     "iopub.status.idle": "2021-12-18T10:24:16.743448Z"
    },
    "papermill": {
     "duration": null,
     "end_time": null,
     "exception": null,
     "start_time": null,
     "status": "pending"
    },
    "tags": []
   },
   "outputs": [],
   "source": [
    "ufc_master_ds.sample(10)"
   ]
  },
  {
   "cell_type": "code",
   "execution_count": null,
   "metadata": {
    "execution": {
     "iopub.status.busy": "2021-12-18T10:24:16.744615Z",
     "iopub.status.idle": "2021-12-18T10:24:16.745062Z"
    },
    "papermill": {
     "duration": null,
     "end_time": null,
     "exception": null,
     "start_time": null,
     "status": "pending"
    },
    "tags": []
   },
   "outputs": [],
   "source": [
    "label = ufc_master_ds.Winner\n",
    "ufc_master_ds.drop(['Winner'], axis=1, inplace = True)"
   ]
  },
  {
   "cell_type": "code",
   "execution_count": null,
   "metadata": {
    "execution": {
     "iopub.status.busy": "2021-12-18T10:24:16.746266Z",
     "iopub.status.idle": "2021-12-18T10:24:16.746719Z"
    },
    "papermill": {
     "duration": null,
     "end_time": null,
     "exception": null,
     "start_time": null,
     "status": "pending"
    },
    "tags": []
   },
   "outputs": [],
   "source": [
    "#Encoding the remaining categorical variables\n",
    "cat_col = ['R_fighter', 'B_fighter']\n",
    "enc = LabelEncoder()\n",
    "for i in ufc_master_ds[cat_col]:\n",
    "    ufc_master_ds[i] = enc.fit_transform(ufc_master_ds[i])"
   ]
  },
  {
   "cell_type": "markdown",
   "metadata": {
    "papermill": {
     "duration": null,
     "end_time": null,
     "exception": null,
     "start_time": null,
     "status": "pending"
    },
    "tags": []
   },
   "source": [
    "***Splitting the data in training and testing data set***"
   ]
  },
  {
   "cell_type": "code",
   "execution_count": null,
   "metadata": {
    "execution": {
     "iopub.status.busy": "2021-12-18T10:24:16.747828Z",
     "iopub.status.idle": "2021-12-18T10:24:16.748242Z"
    },
    "papermill": {
     "duration": null,
     "end_time": null,
     "exception": null,
     "start_time": null,
     "status": "pending"
    },
    "tags": []
   },
   "outputs": [],
   "source": [
    "X_train, X_valid, y_train, y_valid = train_test_split(ufc_master_ds, label, test_size = 0.3, random_state=2)"
   ]
  },
  {
   "cell_type": "code",
   "execution_count": null,
   "metadata": {
    "execution": {
     "iopub.status.busy": "2021-12-18T10:24:16.749430Z",
     "iopub.status.idle": "2021-12-18T10:24:16.749877Z"
    },
    "papermill": {
     "duration": null,
     "end_time": null,
     "exception": null,
     "start_time": null,
     "status": "pending"
    },
    "tags": []
   },
   "outputs": [],
   "source": [
    "#At this point all the null values are the ones that have been left empty by error/mistake and are not left empty deliberately.\n",
    "#So, it would make sense to fill in these with mean rather than 0 or anything else\n",
    "impute = SimpleImputer(strategy = 'mean')\n",
    "impute.fit(X_train)\n",
    "X_train = impute.transform(X_train)\n",
    "X_valid = impute.transform(X_valid)"
   ]
  },
  {
   "cell_type": "code",
   "execution_count": null,
   "metadata": {
    "execution": {
     "iopub.status.busy": "2021-12-18T10:24:16.751171Z",
     "iopub.status.idle": "2021-12-18T10:24:16.751603Z"
    },
    "papermill": {
     "duration": null,
     "end_time": null,
     "exception": null,
     "start_time": null,
     "status": "pending"
    },
    "tags": []
   },
   "outputs": [],
   "source": [
    "RF_model = RandomForestClassifier(random_state=2)"
   ]
  },
  {
   "cell_type": "code",
   "execution_count": null,
   "metadata": {
    "execution": {
     "iopub.status.busy": "2021-12-18T10:24:16.752818Z",
     "iopub.status.idle": "2021-12-18T10:24:16.753231Z"
    },
    "papermill": {
     "duration": null,
     "end_time": null,
     "exception": null,
     "start_time": null,
     "status": "pending"
    },
    "tags": []
   },
   "outputs": [],
   "source": [
    "RF_model.fit(X_train, y_train)"
   ]
  },
  {
   "cell_type": "code",
   "execution_count": null,
   "metadata": {
    "execution": {
     "iopub.status.busy": "2021-12-18T10:24:16.754319Z",
     "iopub.status.idle": "2021-12-18T10:24:16.754785Z"
    },
    "papermill": {
     "duration": null,
     "end_time": null,
     "exception": null,
     "start_time": null,
     "status": "pending"
    },
    "tags": []
   },
   "outputs": [],
   "source": [
    "preds = RF_model.predict(X_valid)\n",
    "accuracy_score(y_valid, preds)"
   ]
  },
  {
   "cell_type": "markdown",
   "metadata": {
    "papermill": {
     "duration": null,
     "end_time": null,
     "exception": null,
     "start_time": null,
     "status": "pending"
    },
    "tags": []
   },
   "source": [
    "**77% is the accuracy after feature engineering**"
   ]
  },
  {
   "cell_type": "code",
   "execution_count": null,
   "metadata": {
    "execution": {
     "iopub.status.busy": "2021-12-18T10:24:16.756242Z",
     "iopub.status.idle": "2021-12-18T10:24:16.756739Z"
    },
    "papermill": {
     "duration": null,
     "end_time": null,
     "exception": null,
     "start_time": null,
     "status": "pending"
    },
    "tags": []
   },
   "outputs": [],
   "source": [
    "#Built a model after doing GridSearch but not putting the code here because the cell takes up a lot of time\n",
    "RF_model = RandomForestClassifier(n_estimators = 350, max_depth = 12, random_state = 2)"
   ]
  },
  {
   "cell_type": "code",
   "execution_count": null,
   "metadata": {
    "execution": {
     "iopub.status.busy": "2021-12-18T10:24:16.758108Z",
     "iopub.status.idle": "2021-12-18T10:24:16.758539Z"
    },
    "papermill": {
     "duration": null,
     "end_time": null,
     "exception": null,
     "start_time": null,
     "status": "pending"
    },
    "tags": []
   },
   "outputs": [],
   "source": [
    "RF_model.fit(X_train, y_train)\n",
    "preds = RF_model.predict(X_valid)\n",
    "accuracy_score(y_valid, preds)"
   ]
  },
  {
   "cell_type": "markdown",
   "metadata": {
    "papermill": {
     "duration": null,
     "end_time": null,
     "exception": null,
     "start_time": null,
     "status": "pending"
    },
    "tags": []
   },
   "source": [
    "**78% accuracy**"
   ]
  },
  {
   "cell_type": "markdown",
   "metadata": {
    "papermill": {
     "duration": null,
     "end_time": null,
     "exception": null,
     "start_time": null,
     "status": "pending"
    },
    "tags": []
   },
   "source": [
    "So, after careful feature engineering and data visualization, the accuracy of our model increased by almost 30%.\n",
    "\n",
    "Note : It should be considered that the model used as a baseline was a DummyClassifier and not a proper model.\n"
   ]
  }
 ],
 "metadata": {
  "kaggle": {
   "accelerator": "none",
   "dataSources": [
    {
     "datasetId": 731322,
     "sourceId": 2690986,
     "sourceType": "datasetVersion"
    }
   ],
   "dockerImageVersionId": 30017,
   "isGpuEnabled": false,
   "isInternetEnabled": true,
   "language": "python",
   "sourceType": "notebook"
  },
  "kernelspec": {
   "display_name": "Python 3",
   "language": "python",
   "name": "python3"
  },
  "language_info": {
   "codemirror_mode": {
    "name": "ipython",
    "version": 3
   },
   "file_extension": ".py",
   "mimetype": "text/x-python",
   "name": "python",
   "nbconvert_exporter": "python",
   "pygments_lexer": "ipython3",
   "version": "3.7.6"
  },
  "papermill": {
   "duration": 7.298103,
   "end_time": "2024-09-19T13:38:52.918089",
   "environment_variables": {},
   "exception": true,
   "input_path": "__notebook__.ipynb",
   "output_path": "__notebook__.ipynb",
   "parameters": {},
   "start_time": "2024-09-19T13:38:45.619986",
   "version": "2.1.0"
  }
 },
 "nbformat": 4,
 "nbformat_minor": 4
}
